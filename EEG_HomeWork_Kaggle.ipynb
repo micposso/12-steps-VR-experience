{
  "cells": [
    {
      "cell_type": "markdown",
      "metadata": {
        "id": "view-in-github",
        "colab_type": "text"
      },
      "source": [
        "<a href=\"https://colab.research.google.com/github/micposso/12-steps-VR-experience/blob/master/EEG_HomeWork_Kaggle.ipynb\" target=\"_parent\"><img src=\"https://colab.research.google.com/assets/colab-badge.svg\" alt=\"Open In Colab\"/></a>"
      ]
    },
    {
      "cell_type": "code",
      "execution_count": 20,
      "metadata": {
        "id": "onOk0tU3-A4w"
      },
      "outputs": [],
      "source": [
        "# TensorFlow/Keras\n",
        "import tensorflow as tf\n",
        "from tensorflow.keras.models import Sequential, Model\n",
        "from tensorflow.keras.layers import (\n",
        "    Conv2D, MaxPooling2D, Flatten, Dense, Input, Dropout,\n",
        "    BatchNormalization, concatenate\n",
        ")\n",
        "from tensorflow.keras.initializers import HeNormal\n",
        "from tensorflow.keras.optimizers import Adam, RMSprop, SGD, AdamW, Adamax\n",
        "from tensorflow.keras.optimizers.schedules import ExponentialDecay\n",
        "from tensorflow.keras.callbacks import (\n",
        "    EarlyStopping, TensorBoard, ReduceLROnPlateau, ModelCheckpoint\n",
        ")\n",
        "from tensorflow.keras.regularizers import l1_l2\n",
        "\n",
        "# Scikit-learn\n",
        "from sklearn.model_selection import train_test_split\n",
        "from sklearn.decomposition import PCA\n",
        "from sklearn.pipeline import make_pipeline\n",
        "from sklearn.preprocessing import StandardScaler\n",
        "\n",
        "# Visualization & utilities\n",
        "import numpy as np\n",
        "import pandas as pd\n",
        "import matplotlib.pyplot as plt\n",
        "import datetime\n",
        "\n",
        "# EEG data tools\n",
        "!pip install mne --quiet\n",
        "import mne"
      ]
    },
    {
      "cell_type": "code",
      "execution_count": 21,
      "metadata": {
        "colab": {
          "base_uri": "https://localhost:8080/",
          "height": 92
        },
        "id": "ycFhFNXK7TbR",
        "outputId": "80af3ae9-11f7-484a-9c8b-1335e0371384"
      },
      "outputs": [
        {
          "output_type": "display_data",
          "data": {
            "text/plain": [
              "<IPython.core.display.HTML object>"
            ],
            "text/html": [
              "\n",
              "     <input type=\"file\" id=\"files-7a83f7a4-db82-4a34-bfa9-82bf50150691\" name=\"files[]\" multiple disabled\n",
              "        style=\"border:none\" />\n",
              "     <output id=\"result-7a83f7a4-db82-4a34-bfa9-82bf50150691\">\n",
              "      Upload widget is only available when the cell has been executed in the\n",
              "      current browser session. Please rerun this cell to enable.\n",
              "      </output>\n",
              "      <script>// Copyright 2017 Google LLC\n",
              "//\n",
              "// Licensed under the Apache License, Version 2.0 (the \"License\");\n",
              "// you may not use this file except in compliance with the License.\n",
              "// You may obtain a copy of the License at\n",
              "//\n",
              "//      http://www.apache.org/licenses/LICENSE-2.0\n",
              "//\n",
              "// Unless required by applicable law or agreed to in writing, software\n",
              "// distributed under the License is distributed on an \"AS IS\" BASIS,\n",
              "// WITHOUT WARRANTIES OR CONDITIONS OF ANY KIND, either express or implied.\n",
              "// See the License for the specific language governing permissions and\n",
              "// limitations under the License.\n",
              "\n",
              "/**\n",
              " * @fileoverview Helpers for google.colab Python module.\n",
              " */\n",
              "(function(scope) {\n",
              "function span(text, styleAttributes = {}) {\n",
              "  const element = document.createElement('span');\n",
              "  element.textContent = text;\n",
              "  for (const key of Object.keys(styleAttributes)) {\n",
              "    element.style[key] = styleAttributes[key];\n",
              "  }\n",
              "  return element;\n",
              "}\n",
              "\n",
              "// Max number of bytes which will be uploaded at a time.\n",
              "const MAX_PAYLOAD_SIZE = 100 * 1024;\n",
              "\n",
              "function _uploadFiles(inputId, outputId) {\n",
              "  const steps = uploadFilesStep(inputId, outputId);\n",
              "  const outputElement = document.getElementById(outputId);\n",
              "  // Cache steps on the outputElement to make it available for the next call\n",
              "  // to uploadFilesContinue from Python.\n",
              "  outputElement.steps = steps;\n",
              "\n",
              "  return _uploadFilesContinue(outputId);\n",
              "}\n",
              "\n",
              "// This is roughly an async generator (not supported in the browser yet),\n",
              "// where there are multiple asynchronous steps and the Python side is going\n",
              "// to poll for completion of each step.\n",
              "// This uses a Promise to block the python side on completion of each step,\n",
              "// then passes the result of the previous step as the input to the next step.\n",
              "function _uploadFilesContinue(outputId) {\n",
              "  const outputElement = document.getElementById(outputId);\n",
              "  const steps = outputElement.steps;\n",
              "\n",
              "  const next = steps.next(outputElement.lastPromiseValue);\n",
              "  return Promise.resolve(next.value.promise).then((value) => {\n",
              "    // Cache the last promise value to make it available to the next\n",
              "    // step of the generator.\n",
              "    outputElement.lastPromiseValue = value;\n",
              "    return next.value.response;\n",
              "  });\n",
              "}\n",
              "\n",
              "/**\n",
              " * Generator function which is called between each async step of the upload\n",
              " * process.\n",
              " * @param {string} inputId Element ID of the input file picker element.\n",
              " * @param {string} outputId Element ID of the output display.\n",
              " * @return {!Iterable<!Object>} Iterable of next steps.\n",
              " */\n",
              "function* uploadFilesStep(inputId, outputId) {\n",
              "  const inputElement = document.getElementById(inputId);\n",
              "  inputElement.disabled = false;\n",
              "\n",
              "  const outputElement = document.getElementById(outputId);\n",
              "  outputElement.innerHTML = '';\n",
              "\n",
              "  const pickedPromise = new Promise((resolve) => {\n",
              "    inputElement.addEventListener('change', (e) => {\n",
              "      resolve(e.target.files);\n",
              "    });\n",
              "  });\n",
              "\n",
              "  const cancel = document.createElement('button');\n",
              "  inputElement.parentElement.appendChild(cancel);\n",
              "  cancel.textContent = 'Cancel upload';\n",
              "  const cancelPromise = new Promise((resolve) => {\n",
              "    cancel.onclick = () => {\n",
              "      resolve(null);\n",
              "    };\n",
              "  });\n",
              "\n",
              "  // Wait for the user to pick the files.\n",
              "  const files = yield {\n",
              "    promise: Promise.race([pickedPromise, cancelPromise]),\n",
              "    response: {\n",
              "      action: 'starting',\n",
              "    }\n",
              "  };\n",
              "\n",
              "  cancel.remove();\n",
              "\n",
              "  // Disable the input element since further picks are not allowed.\n",
              "  inputElement.disabled = true;\n",
              "\n",
              "  if (!files) {\n",
              "    return {\n",
              "      response: {\n",
              "        action: 'complete',\n",
              "      }\n",
              "    };\n",
              "  }\n",
              "\n",
              "  for (const file of files) {\n",
              "    const li = document.createElement('li');\n",
              "    li.append(span(file.name, {fontWeight: 'bold'}));\n",
              "    li.append(span(\n",
              "        `(${file.type || 'n/a'}) - ${file.size} bytes, ` +\n",
              "        `last modified: ${\n",
              "            file.lastModifiedDate ? file.lastModifiedDate.toLocaleDateString() :\n",
              "                                    'n/a'} - `));\n",
              "    const percent = span('0% done');\n",
              "    li.appendChild(percent);\n",
              "\n",
              "    outputElement.appendChild(li);\n",
              "\n",
              "    const fileDataPromise = new Promise((resolve) => {\n",
              "      const reader = new FileReader();\n",
              "      reader.onload = (e) => {\n",
              "        resolve(e.target.result);\n",
              "      };\n",
              "      reader.readAsArrayBuffer(file);\n",
              "    });\n",
              "    // Wait for the data to be ready.\n",
              "    let fileData = yield {\n",
              "      promise: fileDataPromise,\n",
              "      response: {\n",
              "        action: 'continue',\n",
              "      }\n",
              "    };\n",
              "\n",
              "    // Use a chunked sending to avoid message size limits. See b/62115660.\n",
              "    let position = 0;\n",
              "    do {\n",
              "      const length = Math.min(fileData.byteLength - position, MAX_PAYLOAD_SIZE);\n",
              "      const chunk = new Uint8Array(fileData, position, length);\n",
              "      position += length;\n",
              "\n",
              "      const base64 = btoa(String.fromCharCode.apply(null, chunk));\n",
              "      yield {\n",
              "        response: {\n",
              "          action: 'append',\n",
              "          file: file.name,\n",
              "          data: base64,\n",
              "        },\n",
              "      };\n",
              "\n",
              "      let percentDone = fileData.byteLength === 0 ?\n",
              "          100 :\n",
              "          Math.round((position / fileData.byteLength) * 100);\n",
              "      percent.textContent = `${percentDone}% done`;\n",
              "\n",
              "    } while (position < fileData.byteLength);\n",
              "  }\n",
              "\n",
              "  // All done.\n",
              "  yield {\n",
              "    response: {\n",
              "      action: 'complete',\n",
              "    }\n",
              "  };\n",
              "}\n",
              "\n",
              "scope.google = scope.google || {};\n",
              "scope.google.colab = scope.google.colab || {};\n",
              "scope.google.colab._files = {\n",
              "  _uploadFiles,\n",
              "  _uploadFilesContinue,\n",
              "};\n",
              "})(self);\n",
              "</script> "
            ]
          },
          "metadata": {}
        },
        {
          "output_type": "stream",
          "name": "stdout",
          "text": [
            "Saving kaggle.json to kaggle (1).json\n"
          ]
        },
        {
          "output_type": "execute_result",
          "data": {
            "text/plain": [
              "{'kaggle (1).json': b'{\"username\":\"mikememo\",\"key\":\"41958839a1680608f09ba2f9a040f539\"}'}"
            ]
          },
          "metadata": {},
          "execution_count": 21
        }
      ],
      "source": [
        "from google.colab import files\n",
        "files.upload()"
      ]
    },
    {
      "cell_type": "code",
      "execution_count": 22,
      "metadata": {
        "id": "3FVX6Ewc8O0u"
      },
      "outputs": [],
      "source": [
        "!pip install kaggle --quiet\n",
        "!mkdir -p ~/.kaggle\n",
        "!cp kaggle.json ~/.kaggle/\n",
        "!chmod 600 ~/.kaggle/kaggle.json"
      ]
    },
    {
      "cell_type": "code",
      "source": [
        "# Verify Kaggle API setup\n",
        "!kaggle datasets list -s eeg"
      ],
      "metadata": {
        "colab": {
          "base_uri": "https://localhost:8080/"
        },
        "id": "mVUBK_pZPggr",
        "outputId": "8019f81a-05de-41e8-c0d4-31bd4e94636b"
      },
      "execution_count": 23,
      "outputs": [
        {
          "output_type": "stream",
          "name": "stdout",
          "text": [
            "ref                                                title                                                     size  lastUpdated                 downloadCount  voteCount  usabilityRating  \n",
            "-------------------------------------------------  -------------------------------------------------  -----------  --------------------------  -------------  ---------  ---------------  \n",
            "nnair25/Alcoholics                                 EEG-Alcohol                                          301361416  2017-08-19 14:03:06.177000          11169        125  0.7058824        \n",
            "jbouv27/eeg                                        EEG Analysis                                           3703343  2019-11-18 01:13:33.840000           3739         59  0.7647059        \n",
            "wanghaohan/confused-eeg                            Confused student EEG brainwave data                  114134669  2018-03-28 20:52:52.623000          13910        396  0.7941176        \n",
            "cdeotte/brain-eeg-spectrograms                     Brain-EEG-Spectrograms                             16020628604  2024-01-21 12:44:53                  2077        160  0.5294118        \n",
            "shashwatwork/eeg-psychiatric-disorders-dataset     EEG Psychiatric Disorders Dataset                      4946041  2022-02-27 05:20:07.810000           5616         68  0.9411765        \n",
            "robikscube/eye-state-classification-eeg-dataset    Eye State Classification EEG Dataset                    847335  2022-06-26 13:40:41.960000           3193         84  1.0              \n",
            "birdy654/eeg-brainwave-dataset-feeling-emotions    EEG Brainwave Dataset: Feeling Emotions               12498935  2018-12-19 11:12:48.380000          18846        254  0.64705884       \n",
            "ppb00x/eeg-neuroheadset                            EEG & EYE                                               422941  2023-04-16 21:09:14.397000            317         13  1.0              \n",
            "samnikolas/eeg-dataset                             EEG Dataset                                            2349404  2021-03-01 09:07:27.037000           6789         71  0.5294118        \n",
            "broach/button-tone-sz                              EEG data from basic sensory task in Schizophrenia   8627082230  2019-01-31 18:26:06.767000           9010        232  0.88235295       \n",
            "naddamuhhamed/sleepy-driver-eeg-brainwave-data     Sleepy Driver EEG Brainwave Data                         93280  2023-08-31 00:20:19.860000           1985         36  1.0              \n",
            "fabriciotorquato/eeg-data-from-hands-movement      EEG data from hands movement                          11410610  2019-10-23 11:44:42.470000           3053         46  0.88235295       \n",
            "millerintllc/eeg-microexperiment                   EEG Micro-experiment                                   2353171  2018-11-29 03:36:37.857000            891         35  0.85294116       \n",
            "nartaa/eeg-spectrograms                            eeg spectrograms                                   13927623149  2024-02-06 10:58:29.033000            238         12  0.625            \n",
            "birdy654/eeg-brainwave-dataset-mental-state        EEG brainwave dataset: mental state                   25303463  2021-03-09 13:56:02.853000           3838         73  0.8235294        \n",
            "nartaa/hms-eeg                                     HMS EEG                                             6484026863  2024-03-06 14:02:34.243000            117          8  0.6875           \n",
            "seanbearden/eeg-spectrogram-by-lead-id-unique      EEG Spectrogram by label_id (UNIQUE)                9454392749  2024-01-31 03:22:41.667000            406         24  0.875            \n",
            "amananandrai/complete-eeg-dataset                  Complete EEG dataset                                  66717162  2020-12-14 07:44:56.117000           5774         37  0.47058824       \n",
            "madyanomar/eeg-data-distance-learning-environment  EEG data / Distance learning                          22862991  2022-02-21 04:23:57.660000           2064         27  1.0              \n",
            "aymanmostafa11/eeg-motor-imagery-bciciv-2a         EEG Motor Imagery BCICIV_2a                          169188124  2023-05-07 13:00:54.067000           1441         19  1.0              \n"
          ]
        }
      ]
    },
    {
      "cell_type": "code",
      "execution_count": 24,
      "metadata": {
        "colab": {
          "base_uri": "https://localhost:8080/"
        },
        "id": "FASTdiez8ThW",
        "outputId": "ea68107f-f67a-45e6-d8e5-d6d34c125bc1"
      },
      "outputs": [
        {
          "output_type": "stream",
          "name": "stdout",
          "text": [
            "Dataset URL: https://www.kaggle.com/datasets/adibadea/chbmitseizuredataset\n",
            "License(s): GNU Affero General Public License 3.0\n",
            "chbmitseizuredataset.zip: Skipping, found more recently modified local copy (use --force to force download)\n"
          ]
        }
      ],
      "source": [
        "!kaggle datasets download -d adibadea/chbmitseizuredataset"
      ]
    },
    {
      "cell_type": "code",
      "execution_count": 25,
      "metadata": {
        "colab": {
          "base_uri": "https://localhost:8080/"
        },
        "id": "QatmhQ2z8UZr",
        "outputId": "db3805fa-c8c7-43e2-8439-618fa2d87d38"
      },
      "outputs": [
        {
          "output_type": "stream",
          "name": "stdout",
          "text": [
            "Archive:  chbmitseizuredataset.zip\n",
            "replace chbmitseizuredataset/eeg-predictive_train.npz? [y]es, [n]o, [A]ll, [N]one, [r]ename: y\n",
            "  inflating: chbmitseizuredataset/eeg-predictive_train.npz  \n",
            "replace chbmitseizuredataset/eeg-predictive_val.npz? [y]es, [n]o, [A]ll, [N]one, [r]ename: y\n",
            "  inflating: chbmitseizuredataset/eeg-predictive_val.npz  \n",
            "replace chbmitseizuredataset/eeg-predictive_val_balanced.npz? [y]es, [n]o, [A]ll, [N]one, [r]ename: y\n",
            "  inflating: chbmitseizuredataset/eeg-predictive_val_balanced.npz  \n",
            "replace chbmitseizuredataset/eeg-seizure_test.npz? [y]es, [n]o, [A]ll, [N]one, [r]ename: y\n",
            "  inflating: chbmitseizuredataset/eeg-seizure_test.npz  \n",
            "replace chbmitseizuredataset/eeg-seizure_train.npz? [y]es, [n]o, [A]ll, [N]one, [r]ename: a\n",
            "error:  invalid response [a]\n",
            "replace chbmitseizuredataset/eeg-seizure_train.npz? [y]es, [n]o, [A]ll, [N]one, [r]ename: y\n",
            "  inflating: chbmitseizuredataset/eeg-seizure_train.npz  \n",
            "replace chbmitseizuredataset/eeg-seizure_val.npz? [y]es, [n]o, [A]ll, [N]one, [r]ename: y\n",
            "  inflating: chbmitseizuredataset/eeg-seizure_val.npz  \n",
            "replace chbmitseizuredataset/eeg-seizure_val_balanced.npz? [y]es, [n]o, [A]ll, [N]one, [r]ename: A\n",
            "  inflating: chbmitseizuredataset/eeg-seizure_val_balanced.npz  \n"
          ]
        }
      ],
      "source": [
        "# See train, test, and val datasets\n",
        "!unzip chbmitseizuredataset.zip -d chbmitseizuredataset"
      ]
    },
    {
      "cell_type": "code",
      "execution_count": 26,
      "metadata": {
        "colab": {
          "base_uri": "https://localhost:8080/"
        },
        "id": "0va4DEaV8dyB",
        "outputId": "4be00c58-4ed5-43e8-9c32-a97e6a82bd7e"
      },
      "outputs": [
        {
          "output_type": "stream",
          "name": "stdout",
          "text": [
            "['train_signals', 'train_labels']\n"
          ]
        }
      ],
      "source": [
        "#training\n",
        "data = np.load('chbmitseizuredataset/eeg-seizure_train.npz')\n",
        "print(list(data.keys()))"
      ]
    },
    {
      "cell_type": "code",
      "execution_count": 27,
      "metadata": {
        "colab": {
          "base_uri": "https://localhost:8080/"
        },
        "id": "xz2ae-la9JdN",
        "outputId": "e369b99c-a4b2-489e-8dc4-34a0ab4511be"
      },
      "outputs": [
        {
          "output_type": "stream",
          "name": "stdout",
          "text": [
            "['test_signals']\n"
          ]
        },
        {
          "output_type": "execute_result",
          "data": {
            "text/plain": [
              "2"
            ]
          },
          "metadata": {},
          "execution_count": 27
        }
      ],
      "source": [
        "#testing\n",
        "data2 = np.load('chbmitseizuredataset/eeg-seizure_test.npz')\n",
        "print(list(data2.keys()))\n",
        "2"
      ]
    },
    {
      "cell_type": "code",
      "execution_count": 28,
      "metadata": {
        "id": "n_-THfgA9Wmu"
      },
      "outputs": [],
      "source": [
        "X = data['train_signals']\n",
        "y = data['train_labels']"
      ]
    },
    {
      "cell_type": "code",
      "execution_count": 29,
      "metadata": {
        "colab": {
          "base_uri": "https://localhost:8080/"
        },
        "id": "PmbqzghH9XL5",
        "outputId": "7e002bff-f5d5-45c9-d05d-a3cd89937aec"
      },
      "outputs": [
        {
          "output_type": "execute_result",
          "data": {
            "text/plain": [
              "(37666, 23, 256)"
            ]
          },
          "metadata": {},
          "execution_count": 29
        }
      ],
      "source": [
        "X.shape"
      ]
    },
    {
      "cell_type": "code",
      "execution_count": 30,
      "metadata": {
        "colab": {
          "base_uri": "https://localhost:8080/",
          "height": 410
        },
        "id": "S4WTSbEp9YeG",
        "outputId": "1adc34a3-3d1a-403e-fed4-e24343571339"
      },
      "outputs": [
        {
          "output_type": "display_data",
          "data": {
            "text/plain": [
              "<Figure size 1500x400 with 1 Axes>"
            ],
            "image/png": "[encoded data removed]"
          },
          "metadata": {}
        }
      ],
      "source": [
        "import matplotlib.pyplot as plt\n",
        "\n",
        "sample_id = 0\n",
        "\n",
        "plt.figure(figsize=(15, 4))\n",
        "for channel_id in range(3):\n",
        "    # Extract the specific EEG signal\n",
        "    eeg_signal = X[sample_id, channel_id, :]\n",
        "    plt.plot(eeg_signal, label=f'Channel {channel_id}')\n",
        "\n",
        "plt.title('EEG Signal')\n",
        "plt.xlabel('Time Points')\n",
        "plt.ylabel('Amplitude')\n",
        "plt.legend()\n",
        "plt.show()"
      ]
    },
    {
      "cell_type": "code",
      "execution_count": 31,
      "metadata": {
        "id": "uQKmp93hE6Ox"
      },
      "outputs": [],
      "source": [
        "# Question 0: Data Splitting"
      ]
    },
    {
      "cell_type": "code",
      "execution_count": 32,
      "metadata": {
        "id": "c5TMaM8z9atr"
      },
      "outputs": [],
      "source": [
        "from sklearn.model_selection import train_test_split\n",
        "\n",
        "# Load the data\n",
        "X = data['train_signals']\n",
        "y = data['train_labels']\n",
        "\n",
        "# First split: 80% train+val, 20% test\n",
        "X_train_full, X_test, y_train_full, y_test = train_test_split(\n",
        "    X, y, test_size=0.2, stratify=y, random_state=42\n",
        ")\n",
        "\n",
        "# Second split: 75% train, 25% val from the 80% (=> 60% train, 20% val total)\n",
        "X_train, X_valid, y_train, y_valid = train_test_split(\n",
        "    X_train_full, y_train_full, test_size=0.25, stratify=y_train_full, random_state=42\n",
        ")"
      ]
    },
    {
      "cell_type": "code",
      "execution_count": 33,
      "metadata": {
        "colab": {
          "base_uri": "https://localhost:8080/"
        },
        "id": "lK2eYSrd9eTg",
        "outputId": "8cd9de41-7809-4650-cfac-9c9c73ae7dd3"
      },
      "outputs": [
        {
          "output_type": "stream",
          "name": "stdout",
          "text": [
            "['test_signals']\n"
          ]
        }
      ],
      "source": [
        "#testing\n",
        "data2 = np.load('chbmitseizuredataset/eeg-seizure_test.npz')\n",
        "print(list(data2.keys()))"
      ]
    },
    {
      "cell_type": "code",
      "source": [
        "# Reshape input: (samples, 23, 256, 1)\n",
        "X_train = X_train[..., np.newaxis] # shape is (22599, 23, 256, 1)\n",
        "X_valid = X_valid[..., np.newaxis] # shape is (7533, 23, 256, 1)\n",
        "\n",
        "# Normalize input\n",
        "X_train = X_train.astype(\"float32\") / 255.\n",
        "X_valid = X_valid.astype(\"float32\") / 255."
      ],
      "metadata": {
        "id": "7983QyB6hfL8"
      },
      "execution_count": null,
      "outputs": []
    },
    {
      "cell_type": "code",
      "execution_count": 34,
      "metadata": {
        "id": "CZGbFcfyxX0i"
      },
      "outputs": [],
      "source": [
        "# Question 1: Sequential API Implementation"
      ]
    },
    {
      "cell_type": "code",
      "execution_count": 35,
      "metadata": {
        "colab": {
          "base_uri": "https://localhost:8080/",
          "height": 896
        },
        "id": "NEJakgpm9jxv",
        "outputId": "2efefe47-80fa-40a0-9f01-694a7da576e1"
      },
      "outputs": [
        {
          "output_type": "stream",
          "name": "stderr",
          "text": [
            "/usr/local/lib/python3.11/dist-packages/keras/src/layers/convolutional/base_conv.py:107: UserWarning: Do not pass an `input_shape`/`input_dim` argument to a layer. When using Sequential models, prefer using an `Input(shape)` object as the first layer in the model instead.\n",
            "  super().__init__(activity_regularizer=activity_regularizer, **kwargs)\n"
          ]
        },
        {
          "output_type": "stream",
          "name": "stdout",
          "text": [
            "Epoch 1/10\n",
            "\u001b[1m354/354\u001b[0m \u001b[32m━━━━━━━━━━━━━━━━━━━━\u001b[0m\u001b[37m\u001b[0m \u001b[1m219s\u001b[0m 609ms/step - accuracy: 0.7634 - loss: 1.0229 - val_accuracy: 0.7638 - val_loss: 0.8901 - learning_rate: 9.9628e-04\n",
            "Epoch 2/10\n",
            "\u001b[1m354/354\u001b[0m \u001b[32m━━━━━━━━━━━━━━━━━━━━\u001b[0m\u001b[37m\u001b[0m \u001b[1m248s\u001b[0m 571ms/step - accuracy: 0.7952 - loss: 0.3893 - val_accuracy: 0.8035 - val_loss: 0.5323 - learning_rate: 9.9257e-04\n",
            "Epoch 3/10\n",
            "\u001b[1m354/354\u001b[0m \u001b[32m━━━━━━━━━━━━━━━━━━━━\u001b[0m\u001b[37m\u001b[0m \u001b[1m265s\u001b[0m 581ms/step - accuracy: 0.8559 - loss: 0.3350 - val_accuracy: 0.8669 - val_loss: 0.3578 - learning_rate: 9.8887e-04\n",
            "Epoch 4/10\n",
            "\u001b[1m354/354\u001b[0m \u001b[32m━━━━━━━━━━━━━━━━━━━━\u001b[0m\u001b[37m\u001b[0m \u001b[1m258s\u001b[0m 571ms/step - accuracy: 0.8737 - loss: 0.3028 - val_accuracy: 0.8776 - val_loss: 0.3187 - learning_rate: 9.8519e-04\n",
            "Epoch 5/10\n",
            "\u001b[1m354/354\u001b[0m \u001b[32m━━━━━━━━━━━━━━━━━━━━\u001b[0m\u001b[37m\u001b[0m \u001b[1m190s\u001b[0m 535ms/step - accuracy: 0.8847 - loss: 0.2751 - val_accuracy: 0.8959 - val_loss: 0.2769 - learning_rate: 9.8152e-04\n",
            "Epoch 6/10\n",
            "\u001b[1m354/354\u001b[0m \u001b[32m━━━━━━━━━━━━━━━━━━━━\u001b[0m\u001b[37m\u001b[0m \u001b[1m213s\u001b[0m 567ms/step - accuracy: 0.8936 - loss: 0.2621 - val_accuracy: 0.9007 - val_loss: 0.2680 - learning_rate: 9.7787e-04\n",
            "Epoch 7/10\n",
            "\u001b[1m354/354\u001b[0m \u001b[32m━━━━━━━━━━━━━━━━━━━━\u001b[0m\u001b[37m\u001b[0m \u001b[1m198s\u001b[0m 557ms/step - accuracy: 0.9011 - loss: 0.2428 - val_accuracy: 0.8821 - val_loss: 0.3559 - learning_rate: 9.7423e-04\n",
            "Epoch 8/10\n",
            "\u001b[1m354/354\u001b[0m \u001b[32m━━━━━━━━━━━━━━━━━━━━\u001b[0m\u001b[37m\u001b[0m \u001b[1m199s\u001b[0m 550ms/step - accuracy: 0.9146 - loss: 0.2135 - val_accuracy: 0.9042 - val_loss: 0.2590 - learning_rate: 9.7060e-04\n",
            "Epoch 9/10\n",
            "\u001b[1m354/354\u001b[0m \u001b[32m━━━━━━━━━━━━━━━━━━━━\u001b[0m\u001b[37m\u001b[0m \u001b[1m217s\u001b[0m 592ms/step - accuracy: 0.9154 - loss: 0.2084 - val_accuracy: 0.9067 - val_loss: 0.2526 - learning_rate: 9.6699e-04\n",
            "Epoch 10/10\n",
            "\u001b[1m354/354\u001b[0m \u001b[32m━━━━━━━━━━━━━━━━━━━━\u001b[0m\u001b[37m\u001b[0m \u001b[1m266s\u001b[0m 604ms/step - accuracy: 0.9248 - loss: 0.1854 - val_accuracy: 0.9133 - val_loss: 0.2450 - learning_rate: 9.6339e-04\n"
          ]
        },
        {
          "output_type": "display_data",
          "data": {
            "text/plain": [
              "<Figure size 640x480 with 1 Axes>"
            ],
            "image/png": "[encoded data removed]"
          },
          "metadata": {}
        }
      ],
      "source": [
        "# Sequential API\n",
        "\n",
        "model = Sequential([\n",
        "    Conv2D(32, (3, 3), activation='relu', input_shape=(23, 256, 1), kernel_initializer=HeNormal()),\n",
        "    BatchNormalization(),\n",
        "    MaxPooling2D((2, 2)),\n",
        "    Dropout(0.3),\n",
        "\n",
        "    Conv2D(64, (3, 3), activation='relu'),\n",
        "    MaxPooling2D((2, 2)),\n",
        "    Dropout(0.3),\n",
        "\n",
        "    Flatten(),\n",
        "    Dense(128, activation='relu'),\n",
        "    Dropout(0.5),\n",
        "    Dense(1, activation='sigmoid')\n",
        "])\n",
        "\n",
        "model.compile(\n",
        "    optimizer=Adam(learning_rate=1e-3),\n",
        "    loss='binary_crossentropy',\n",
        "    metrics=['accuracy']\n",
        ")\n",
        "\n"
      ]
    },
    {
      "cell_type": "code",
      "source": [
        "# Train the model"
      ],
      "metadata": {
        "id": "ZavQ9VMGh9Dz"
      },
      "execution_count": null,
      "outputs": []
    },
    {
      "cell_type": "code",
      "source": [
        "# Early stopping to avoid overfitting\n",
        "early_stopping = EarlyStopping(monitor='val_loss', patience=10, restore_best_weights=True)\n",
        "\n",
        "# Fit model\n",
        "history = model.fit(\n",
        "    X_train, y_train,\n",
        "    epochs=10,\n",
        "    batch_size=64,\n",
        "    validation_data=(X_valid, y_valid),\n",
        "    callbacks=[early_stopping]\n",
        ")"
      ],
      "metadata": {
        "colab": {
          "base_uri": "https://localhost:8080/"
        },
        "id": "Tjnq519ThrDI",
        "outputId": "47dc6de9-6e82-4d29-8760-4110bbfbfdba"
      },
      "execution_count": 50,
      "outputs": [
        {
          "output_type": "stream",
          "name": "stdout",
          "text": [
            "Epoch 1/10\n",
            "\u001b[1m354/354\u001b[0m \u001b[32m━━━━━━━━━━━━━━━━━━━━\u001b[0m\u001b[37m\u001b[0m \u001b[1m196s\u001b[0m 554ms/step - accuracy: 0.9265 - loss: 0.1821 - val_accuracy: 0.8999 - val_loss: 0.2857\n",
            "Epoch 2/10\n",
            "\u001b[1m354/354\u001b[0m \u001b[32m━━━━━━━━━━━━━━━━━━━━\u001b[0m\u001b[37m\u001b[0m \u001b[1m201s\u001b[0m 550ms/step - accuracy: 0.9285 - loss: 0.1766 - val_accuracy: 0.9136 - val_loss: 0.2445\n",
            "Epoch 3/10\n",
            "\u001b[1m354/354\u001b[0m \u001b[32m━━━━━━━━━━━━━━━━━━━━\u001b[0m\u001b[37m\u001b[0m \u001b[1m198s\u001b[0m 541ms/step - accuracy: 0.9349 - loss: 0.1629 - val_accuracy: 0.9186 - val_loss: 0.2361\n",
            "Epoch 4/10\n",
            "\u001b[1m354/354\u001b[0m \u001b[32m━━━━━━━━━━━━━━━━━━━━\u001b[0m\u001b[37m\u001b[0m \u001b[1m216s\u001b[0m 578ms/step - accuracy: 0.9269 - loss: 0.1944 - val_accuracy: 0.9153 - val_loss: 0.2806\n",
            "Epoch 5/10\n",
            "\u001b[1m354/354\u001b[0m \u001b[32m━━━━━━━━━━━━━━━━━━━━\u001b[0m\u001b[37m\u001b[0m \u001b[1m255s\u001b[0m 561ms/step - accuracy: 0.9400 - loss: 0.1433 - val_accuracy: 0.9162 - val_loss: 0.2646\n",
            "Epoch 6/10\n",
            "\u001b[1m354/354\u001b[0m \u001b[32m━━━━━━━━━━━━━━━━━━━━\u001b[0m\u001b[37m\u001b[0m \u001b[1m206s\u001b[0m 573ms/step - accuracy: 0.9416 - loss: 0.1476 - val_accuracy: 0.9170 - val_loss: 0.2703\n",
            "Epoch 7/10\n",
            "\u001b[1m354/354\u001b[0m \u001b[32m━━━━━━━━━━━━━━━━━━━━\u001b[0m\u001b[37m\u001b[0m \u001b[1m211s\u001b[0m 597ms/step - accuracy: 0.9452 - loss: 0.1396 - val_accuracy: 0.9161 - val_loss: 0.2492\n",
            "Epoch 8/10\n",
            "\u001b[1m354/354\u001b[0m \u001b[32m━━━━━━━━━━━━━━━━━━━━\u001b[0m\u001b[37m\u001b[0m \u001b[1m241s\u001b[0m 539ms/step - accuracy: 0.9417 - loss: 0.1447 - val_accuracy: 0.9099 - val_loss: 0.3282\n",
            "Epoch 9/10\n",
            "\u001b[1m354/354\u001b[0m \u001b[32m━━━━━━━━━━━━━━━━━━━━\u001b[0m\u001b[37m\u001b[0m \u001b[1m202s\u001b[0m 538ms/step - accuracy: 0.9549 - loss: 0.1178 - val_accuracy: 0.9197 - val_loss: 0.2636\n",
            "Epoch 10/10\n",
            "\u001b[1m354/354\u001b[0m \u001b[32m━━━━━━━━━━━━━━━━━━━━\u001b[0m\u001b[37m\u001b[0m \u001b[1m196s\u001b[0m 555ms/step - accuracy: 0.9534 - loss: 0.1173 - val_accuracy: 0.9112 - val_loss: 0.3403\n"
          ]
        }
      ]
    },
    {
      "cell_type": "code",
      "source": [
        "# Plot the curvers\n",
        "import matplotlib.pyplot as plt\n",
        "\n",
        "plt.figure(figsize=(14, 5))\n",
        "\n",
        "# Accuracy plot\n",
        "plt.subplot(1, 2, 1)\n",
        "plt.plot(history.history['accuracy'], label='Training Accuracy')\n",
        "plt.plot(history.history['val_accuracy'], label='Validation Accuracy')\n",
        "plt.xlabel('Epochs')\n",
        "plt.ylabel('Accuracy')\n",
        "plt.title('Learning Curve: Accuracy')\n",
        "plt.legend()\n",
        "plt.grid(True)\n",
        "\n",
        "# Loss plot\n",
        "plt.subplot(1, 2, 2)\n",
        "plt.plot(history.history['loss'], label='Training Loss')\n",
        "plt.plot(history.history['val_loss'], label='Validation Loss')\n",
        "plt.xlabel('Epochs')\n",
        "plt.ylabel('Loss')\n",
        "plt.title('Learning Curve: Loss')\n",
        "plt.legend()\n",
        "plt.grid(True)\n",
        "\n",
        "plt.tight_layout()\n",
        "plt.show()\n"
      ],
      "metadata": {
        "id": "0TQpSkrxhwFD"
      },
      "execution_count": null,
      "outputs": []
    },
    {
      "cell_type": "code",
      "source": [
        "# Model 1 Evaluation"
      ],
      "metadata": {
        "id": "cuZcd055OGgw"
      },
      "execution_count": 36,
      "outputs": []
    },
    {
      "cell_type": "code",
      "execution_count": 37,
      "metadata": {
        "colab": {
          "base_uri": "https://localhost:8080/"
        },
        "id": "WTknsW6V6l4N",
        "outputId": "8fc252e0-24eb-436e-865f-2aed68f051f7"
      },
      "outputs": [
        {
          "output_type": "stream",
          "name": "stdout",
          "text": [
            "\u001b[1m236/236\u001b[0m \u001b[32m━━━━━━━━━━━━━━━━━━━━\u001b[0m\u001b[37m\u001b[0m \u001b[1m10s\u001b[0m 44ms/step - accuracy: 0.9121 - loss: 0.2468\n",
            "Validation accuracy: 0.9133\n"
          ]
        }
      ],
      "source": [
        "# Predict on test set\n",
        "X_test = X_test[..., np.newaxis].astype(\"float32\") / 255.0\n",
        "y_pred_proba = model.predict(X_test).flatten()\n",
        "y_pred = (y_pred_proba >= 0.5).astype(int)\n",
        "\n",
        "# Confusion matrix\n",
        "cm = confusion_matrix(y_test, y_pred)\n",
        "sns.heatmap(cm, annot=True, fmt='d', cmap='Blues')\n",
        "plt.xlabel(\"Predicted\")\n",
        "plt.ylabel(\"Actual\")\n",
        "plt.title(\"Confusion Matrix\")\n",
        "plt.show()\n",
        "\n",
        "# Classification report\n",
        "print(\"Classification Report:\")\n",
        "print(classification_report(y_test, y_pred, digits=4))\n",
        "\n",
        "# Average Precision Score\n",
        "avg_prec = average_precision_score(y_test, y_pred_proba)\n",
        "print(f\"Average Precision Score: {avg_prec:.4f}\")"
      ]
    },
    {
      "cell_type": "code",
      "source": [
        "# Question 2: Functional API Implementation"
      ],
      "metadata": {
        "id": "BsnTeK1Q7Tkt"
      },
      "execution_count": 38,
      "outputs": []
    },
    {
      "cell_type": "code",
      "source": [
        "from tensorflow.keras.layers import Input, Dense, Flatten, Dropout, BatchNormalization, concatenate\n",
        "from tensorflow.keras.models import Model\n",
        "\n",
        "input_shape = X_train.shape[1:]\n",
        "\n",
        "# Input layer\n",
        "input_layer = Input(shape=input_shape)\n",
        "\n",
        "# Flatten input for wide path\n",
        "flat = Flatten()(input_layer)\n",
        "\n",
        "# Wide path (just flattened features)\n",
        "wide = Dense(300, activation='relu')(flat)\n",
        "\n",
        "# Deep path\n",
        "deep = Dense(300, activation='relu')(flat)\n",
        "deep = BatchNormalization()(deep)\n",
        "deep = Dropout(0.3)(deep)\n",
        "deep = Dense(100, activation='relu')(deep)\n",
        "deep = BatchNormalization()(deep)\n",
        "deep = Dropout(0.3)(deep)\n",
        "\n",
        "# Concatenate both paths\n",
        "merged = concatenate([wide, deep])\n",
        "\n",
        "# Output layer\n",
        "output = Dense(1, activation='sigmoid')(merged)\n",
        "\n",
        "# Build model\n",
        "model2 = Model(inputs=input_layer, outputs=output)\n",
        "\n",
        "# Compile\n",
        "model2.compile(optimizer=Adam(learning_rate=1e-3), loss='binary_crossentropy', metrics=['accuracy']) # Fix: Remove lr_schedule from Adam initialization\n",
        "\n",
        "# Fit model\n",
        "callbacks = [\n",
        "    EarlyStopping(monitor='val_loss', patience=10, restore_best_weights=True),\n",
        "    ReduceLROnPlateau(monitor='val_loss', factor=0.2, patience=5)\n",
        "]\n",
        "\n",
        "history2 = model2.fit(\n",
        "    X_train, y_train,\n",
        "    validation_data=(X_valid, y_valid),\n",
        "    epochs=10,\n",
        "    batch_size=64,\n",
        "    callbacks=callbacks\n",
        ")\n",
        "\n",
        "# Plot learning curves\n",
        "plt.plot(history2.history['accuracy'], label='Train Acc')\n",
        "plt.plot(history2.history['val_accuracy'], label='Val Acc')\n",
        "plt.xlabel('Epoch')\n",
        "plt.ylabel('Accuracy')\n",
        "plt.title('Learning Curves - Functional API (Deep + Wide)')\n",
        "plt.legend()\n",
        "plt.grid(True)\n",
        "plt.show()"
      ],
      "metadata": {
        "colab": {
          "base_uri": "https://localhost:8080/",
          "height": 839
        },
        "id": "p1EdxVmv7Ua-",
        "outputId": "a8f9d594-fef0-47d0-d659-34c356aea23b"
      },
      "execution_count": 39,
      "outputs": [
        {
          "output_type": "stream",
          "name": "stdout",
          "text": [
            "Epoch 1/10\n",
            "\u001b[1m354/354\u001b[0m \u001b[32m━━━━━━━━━━━━━━━━━━━━\u001b[0m\u001b[37m\u001b[0m \u001b[1m19s\u001b[0m 48ms/step - accuracy: 0.7649 - loss: 0.5995 - val_accuracy: 0.8319 - val_loss: 0.4279 - learning_rate: 0.0010\n",
            "Epoch 2/10\n",
            "\u001b[1m354/354\u001b[0m \u001b[32m━━━━━━━━━━━━━━━━━━━━\u001b[0m\u001b[37m\u001b[0m \u001b[1m18s\u001b[0m 41ms/step - accuracy: 0.8621 - loss: 0.3460 - val_accuracy: 0.8372 - val_loss: 0.4302 - learning_rate: 0.0010\n",
            "Epoch 3/10\n",
            "\u001b[1m354/354\u001b[0m \u001b[32m━━━━━━━━━━━━━━━━━━━━\u001b[0m\u001b[37m\u001b[0m \u001b[1m15s\u001b[0m 41ms/step - accuracy: 0.8862 - loss: 0.2849 - val_accuracy: 0.8479 - val_loss: 0.4010 - learning_rate: 0.0010\n",
            "Epoch 4/10\n",
            "\u001b[1m354/354\u001b[0m \u001b[32m━━━━━━━━━━━━━━━━━━━━\u001b[0m\u001b[37m\u001b[0m \u001b[1m23s\u001b[0m 50ms/step - accuracy: 0.9110 - loss: 0.2312 - val_accuracy: 0.8499 - val_loss: 0.4518 - learning_rate: 0.0010\n",
            "Epoch 5/10\n",
            "\u001b[1m354/354\u001b[0m \u001b[32m━━━━━━━━━━━━━━━━━━━━\u001b[0m\u001b[37m\u001b[0m \u001b[1m18s\u001b[0m 43ms/step - accuracy: 0.9280 - loss: 0.1921 - val_accuracy: 0.8611 - val_loss: 0.4494 - learning_rate: 0.0010\n",
            "Epoch 6/10\n",
            "\u001b[1m354/354\u001b[0m \u001b[32m━━━━━━━━━━━━━━━━━━━━\u001b[0m\u001b[37m\u001b[0m \u001b[1m19s\u001b[0m 40ms/step - accuracy: 0.9430 - loss: 0.1556 - val_accuracy: 0.8599 - val_loss: 0.4733 - learning_rate: 0.0010\n",
            "Epoch 7/10\n",
            "\u001b[1m354/354\u001b[0m \u001b[32m━━━━━━━━━━━━━━━━━━━━\u001b[0m\u001b[37m\u001b[0m \u001b[1m16s\u001b[0m 46ms/step - accuracy: 0.9520 - loss: 0.1323 - val_accuracy: 0.8649 - val_loss: 0.4869 - learning_rate: 0.0010\n",
            "Epoch 8/10\n",
            "\u001b[1m354/354\u001b[0m \u001b[32m━━━━━━━━━━━━━━━━━━━━\u001b[0m\u001b[37m\u001b[0m \u001b[1m19s\u001b[0m 42ms/step - accuracy: 0.9577 - loss: 0.1169 - val_accuracy: 0.8585 - val_loss: 0.5613 - learning_rate: 0.0010\n",
            "Epoch 9/10\n",
            "\u001b[1m354/354\u001b[0m \u001b[32m━━━━━━━━━━━━━━━━━━━━\u001b[0m\u001b[37m\u001b[0m \u001b[1m18s\u001b[0m 50ms/step - accuracy: 0.9735 - loss: 0.0832 - val_accuracy: 0.8680 - val_loss: 0.5008 - learning_rate: 2.0000e-04\n",
            "Epoch 10/10\n",
            "\u001b[1m354/354\u001b[0m \u001b[32m━━━━━━━━━━━━━━━━━━━━\u001b[0m\u001b[37m\u001b[0m \u001b[1m15s\u001b[0m 43ms/step - accuracy: 0.9866 - loss: 0.0474 - val_accuracy: 0.8718 - val_loss: 0.5071 - learning_rate: 2.0000e-04\n"
          ]
        },
        {
          "output_type": "display_data",
          "data": {
            "text/plain": [
              "<Figure size 640x480 with 1 Axes>"
            ],
            "image/png": "[encoded data removed]"
          },
          "metadata": {}
        }
      ]
    },
    {
      "cell_type": "code",
      "source": [
        "# Model 2 Evaluation"
      ],
      "metadata": {
        "id": "rxAtWCkAOcQd"
      },
      "execution_count": 40,
      "outputs": []
    },
    {
      "cell_type": "code",
      "source": [
        "# Evaluate model\n",
        "loss2, acc2 = model2.evaluate(X_valid, y_valid)\n",
        "print(f\"Validation Accuracy (Functional API): {acc2:.4f}\")"
      ],
      "metadata": {
        "colab": {
          "base_uri": "https://localhost:8080/"
        },
        "id": "_vxlrFebObAW",
        "outputId": "2f5ed850-862e-4334-e013-740cda30055c"
      },
      "execution_count": 41,
      "outputs": [
        {
          "output_type": "stream",
          "name": "stdout",
          "text": [
            "\u001b[1m236/236\u001b[0m \u001b[32m━━━━━━━━━━━━━━━━━━━━\u001b[0m\u001b[37m\u001b[0m \u001b[1m2s\u001b[0m 9ms/step - accuracy: 0.8452 - loss: 0.4034\n",
            "Validation Accuracy (Functional API): 0.8479\n"
          ]
        }
      ]
    },
    {
      "cell_type": "code",
      "source": [
        "# Question 3: Functional API Implementation with Auxiliary"
      ],
      "metadata": {
        "id": "e8B2g1wSA-U1"
      },
      "execution_count": 42,
      "outputs": []
    },
    {
      "cell_type": "code",
      "source": [
        "from tensorflow.keras.models import Model\n",
        "from tensorflow.keras.layers import Input, Dense, Flatten, Dropout, BatchNormalization, concatenate\n",
        "from tensorflow.keras.callbacks import EarlyStopping, ModelCheckpoint\n",
        "import os\n",
        "\n",
        "# Define input\n",
        "input_layer = Input(shape=X_train.shape[1:])\n",
        "\n",
        "# Flatten for both paths\n",
        "flat = Flatten()(input_layer)\n",
        "\n",
        "# Shared base path\n",
        "hidden1 = Dense(300, activation='relu')(flat)\n",
        "hidden1 = BatchNormalization()(hidden1)\n",
        "hidden1 = Dropout(0.5)(hidden1)\n",
        "\n",
        "hidden2 = Dense(100, activation='relu')(hidden1)\n",
        "hidden2 = BatchNormalization()(hidden2)\n",
        "hidden2 = Dropout(0.35)(hidden2)\n",
        "\n",
        "# Auxiliary output from hidden layer 2\n",
        "aux_output = Dense(1, activation='sigmoid', name=\"aux_output\")(hidden2)\n",
        "\n",
        "# Main output\n",
        "merged = concatenate([flat, hidden2])\n",
        "final_hidden = Dense(50, activation='relu')(merged)\n",
        "final_hidden = BatchNormalization()(final_hidden)\n",
        "main_output = Dense(1, activation='sigmoid', name=\"main_output\")(final_hidden)\n",
        "\n",
        "# Model\n",
        "model3 = Model(inputs=input_layer, outputs=[main_output, aux_output])\n",
        "\n",
        "# Compile\n",
        "model3.compile(\n",
        "    loss={\"main_output\": \"binary_crossentropy\", \"aux_output\": \"binary_crossentropy\"},\n",
        "    optimizer=Adam(learning_rate=1e-3),\n",
        "    metrics={\"main_output\": \"accuracy\", \"aux_output\": \"accuracy\"}\n",
        ")\n",
        "\n",
        "# Callbacks\n",
        "os.makedirs(\"checkpoints\", exist_ok=True)\n",
        "checkpoint_cb = ModelCheckpoint(\"checkpoints/best_model_aux.h5\", monitor='val_main_output_accuracy', save_best_only=True)\n",
        "\n",
        "# Stop when epochs are flat\n",
        "earlystop_cb = EarlyStopping(\n",
        "    monitor='val_main_output_accuracy',\n",
        "    patience=10,\n",
        "    mode='max',\n",
        "    restore_best_weights=True,\n",
        "    verbose=1\n",
        ")\n",
        "\n",
        "# Fit\n",
        "history3 = model3.fit(\n",
        "    X_train, [y_train, y_train],\n",
        "    validation_data=(X_valid, [y_valid, y_valid]),\n",
        "    epochs=100,\n",
        "    batch_size=64,\n",
        "    callbacks=[checkpoint_cb, earlystop_cb]\n",
        "    # callbacks=[checkpoint_cb]\n",
        ")\n"
      ],
      "metadata": {
        "colab": {
          "base_uri": "https://localhost:8080/"
        },
        "id": "c1xCAS6eBHxK",
        "outputId": "690657cc-9c0f-464c-ef03-f464bc18f60f"
      },
      "execution_count": 59,
      "outputs": [
        {
          "output_type": "stream",
          "name": "stdout",
          "text": [
            "Epoch 1/100\n",
            "\u001b[1m353/354\u001b[0m \u001b[32m━━━━━━━━━━━━━━━━━━━\u001b[0m\u001b[37m━\u001b[0m \u001b[1m0s\u001b[0m 27ms/step - aux_output_accuracy: 0.7307 - aux_output_loss: 0.6462 - loss: 1.2679 - main_output_accuracy: 0.7406 - main_output_loss: 0.6217"
          ]
        },
        {
          "output_type": "stream",
          "name": "stderr",
          "text": [
            "WARNING:absl:You are saving your model as an HDF5 file via `model.save()` or `keras.saving.save_model(model)`. This file format is considered legacy. We recommend using instead the native Keras format, e.g. `model.save('my_model.keras')` or `keras.saving.save_model(model, 'my_model.keras')`. \n"
          ]
        },
        {
          "output_type": "stream",
          "name": "stdout",
          "text": [
            "\b\b\b\b\b\b\b\b\b\b\b\b\b\b\b\b\b\b\b\b\b\b\b\b\b\b\b\b\b\b\b\b\b\b\b\b\b\b\b\b\b\b\b\b\b\b\b\b\b\b\b\b\b\b\b\b\b\b\b\b\b\b\b\b\b\b\b\b\b\b\b\b\b\b\b\b\b\b\b\b\b\b\b\b\b\b\b\b\b\b\b\b\b\b\b\b\b\b\b\b\b\b\b\b\b\b\b\b\b\b\b\b\b\b\b\b\b\b\b\b\b\b\b\b\b\b\b\b\b\b\b\b\b\b\b\b\b\b\b\b\b\b\b\b\b\b\b\b\b\b\b\b\b\b\b\b\b\b\b\b\b\b\b\b\b\b\b\b\b\b\r\u001b[1m354/354\u001b[0m \u001b[32m━━━━━━━━━━━━━━━━━━━━\u001b[0m\u001b[37m\u001b[0m \u001b[1m14s\u001b[0m 32ms/step - aux_output_accuracy: 0.7309 - aux_output_loss: 0.6458 - loss: 1.2669 - main_output_accuracy: 0.7409 - main_output_loss: 0.6211 - val_aux_output_accuracy: 0.8254 - val_aux_output_loss: 0.4335 - val_loss: 0.8608 - val_main_output_accuracy: 0.8286 - val_main_output_loss: 0.4271\n",
            "Epoch 2/100\n",
            "\u001b[1m354/354\u001b[0m \u001b[32m━━━━━━━━━━━━━━━━━━━━\u001b[0m\u001b[37m\u001b[0m \u001b[1m0s\u001b[0m 29ms/step - aux_output_accuracy: 0.8152 - aux_output_loss: 0.4511 - loss: 0.8216 - main_output_accuracy: 0.8515 - main_output_loss: 0.3705"
          ]
        },
        {
          "output_type": "stream",
          "name": "stderr",
          "text": [
            "WARNING:absl:You are saving your model as an HDF5 file via `model.save()` or `keras.saving.save_model(model)`. This file format is considered legacy. We recommend using instead the native Keras format, e.g. `model.save('my_model.keras')` or `keras.saving.save_model(model, 'my_model.keras')`. \n"
          ]
        },
        {
          "output_type": "stream",
          "name": "stdout",
          "text": [
            "\b\b\b\b\b\b\b\b\b\b\b\b\b\b\b\b\b\b\b\b\b\b\b\b\b\b\b\b\b\b\b\b\b\b\b\b\b\b\b\b\b\b\b\b\b\b\b\b\b\b\b\b\b\b\b\b\b\b\b\b\b\b\b\b\b\b\b\b\b\b\b\b\b\b\b\b\b\b\b\b\b\b\b\b\b\b\b\b\b\b\b\b\b\b\b\b\b\b\b\b\b\b\b\b\b\b\b\b\b\b\b\b\b\b\b\b\b\b\b\b\b\b\b\b\b\b\b\b\b\b\b\b\b\b\b\b\b\b\b\b\b\b\b\b\b\b\b\b\b\b\b\b\b\b\b\b\b\b\b\b\b\b\b\b\b\b\b\b\b\b\r\u001b[1m354/354\u001b[0m \u001b[32m━━━━━━━━━━━━━━━━━━━━\u001b[0m\u001b[37m\u001b[0m \u001b[1m21s\u001b[0m 33ms/step - aux_output_accuracy: 0.8152 - aux_output_loss: 0.4511 - loss: 0.8216 - main_output_accuracy: 0.8515 - main_output_loss: 0.3705 - val_aux_output_accuracy: 0.8289 - val_aux_output_loss: 0.4135 - val_loss: 0.8221 - val_main_output_accuracy: 0.8354 - val_main_output_loss: 0.4086\n",
            "Epoch 3/100\n",
            "\u001b[1m353/354\u001b[0m \u001b[32m━━━━━━━━━━━━━━━━━━━\u001b[0m\u001b[37m━\u001b[0m \u001b[1m0s\u001b[0m 29ms/step - aux_output_accuracy: 0.8374 - aux_output_loss: 0.4018 - loss: 0.7260 - main_output_accuracy: 0.8695 - main_output_loss: 0.3243"
          ]
        },
        {
          "output_type": "stream",
          "name": "stderr",
          "text": [
            "WARNING:absl:You are saving your model as an HDF5 file via `model.save()` or `keras.saving.save_model(model)`. This file format is considered legacy. We recommend using instead the native Keras format, e.g. `model.save('my_model.keras')` or `keras.saving.save_model(model, 'my_model.keras')`. \n"
          ]
        },
        {
          "output_type": "stream",
          "name": "stdout",
          "text": [
            "\b\b\b\b\b\b\b\b\b\b\b\b\b\b\b\b\b\b\b\b\b\b\b\b\b\b\b\b\b\b\b\b\b\b\b\b\b\b\b\b\b\b\b\b\b\b\b\b\b\b\b\b\b\b\b\b\b\b\b\b\b\b\b\b\b\b\b\b\b\b\b\b\b\b\b\b\b\b\b\b\b\b\b\b\b\b\b\b\b\b\b\b\b\b\b\b\b\b\b\b\b\b\b\b\b\b\b\b\b\b\b\b\b\b\b\b\b\b\b\b\b\b\b\b\b\b\b\b\b\b\b\b\b\b\b\b\b\b\b\b\b\b\b\b\b\b\b\b\b\b\b\b\b\b\b\b\b\b\b\b\b\b\b\b\b\b\b\b\b\b\r\u001b[1m354/354\u001b[0m \u001b[32m━━━━━━━━━━━━━━━━━━━━\u001b[0m\u001b[37m\u001b[0m \u001b[1m12s\u001b[0m 33ms/step - aux_output_accuracy: 0.8373 - aux_output_loss: 0.4018 - loss: 0.7261 - main_output_accuracy: 0.8695 - main_output_loss: 0.3243 - val_aux_output_accuracy: 0.8331 - val_aux_output_loss: 0.3975 - val_loss: 0.7923 - val_main_output_accuracy: 0.8446 - val_main_output_loss: 0.3947\n",
            "Epoch 4/100\n",
            "\u001b[1m353/354\u001b[0m \u001b[32m━━━━━━━━━━━━━━━━━━━\u001b[0m\u001b[37m━\u001b[0m \u001b[1m0s\u001b[0m 29ms/step - aux_output_accuracy: 0.8502 - aux_output_loss: 0.3602 - loss: 0.6385 - main_output_accuracy: 0.8884 - main_output_loss: 0.2783"
          ]
        },
        {
          "output_type": "stream",
          "name": "stderr",
          "text": [
            "WARNING:absl:You are saving your model as an HDF5 file via `model.save()` or `keras.saving.save_model(model)`. This file format is considered legacy. We recommend using instead the native Keras format, e.g. `model.save('my_model.keras')` or `keras.saving.save_model(model, 'my_model.keras')`. \n"
          ]
        },
        {
          "output_type": "stream",
          "name": "stdout",
          "text": [
            "\b\b\b\b\b\b\b\b\b\b\b\b\b\b\b\b\b\b\b\b\b\b\b\b\b\b\b\b\b\b\b\b\b\b\b\b\b\b\b\b\b\b\b\b\b\b\b\b\b\b\b\b\b\b\b\b\b\b\b\b\b\b\b\b\b\b\b\b\b\b\b\b\b\b\b\b\b\b\b\b\b\b\b\b\b\b\b\b\b\b\b\b\b\b\b\b\b\b\b\b\b\b\b\b\b\b\b\b\b\b\b\b\b\b\b\b\b\b\b\b\b\b\b\b\b\b\b\b\b\b\b\b\b\b\b\b\b\b\b\b\b\b\b\b\b\b\b\b\b\b\b\b\b\b\b\b\b\b\b\b\b\b\b\b\b\b\b\b\b\b\r\u001b[1m354/354\u001b[0m \u001b[32m━━━━━━━━━━━━━━━━━━━━\u001b[0m\u001b[37m\u001b[0m \u001b[1m12s\u001b[0m 33ms/step - aux_output_accuracy: 0.8502 - aux_output_loss: 0.3602 - loss: 0.6386 - main_output_accuracy: 0.8884 - main_output_loss: 0.2784 - val_aux_output_accuracy: 0.8435 - val_aux_output_loss: 0.3737 - val_loss: 0.7565 - val_main_output_accuracy: 0.8492 - val_main_output_loss: 0.3824\n",
            "Epoch 5/100\n",
            "\u001b[1m352/354\u001b[0m \u001b[32m━━━━━━━━━━━━━━━━━━━\u001b[0m\u001b[37m━\u001b[0m \u001b[1m0s\u001b[0m 28ms/step - aux_output_accuracy: 0.8585 - aux_output_loss: 0.3341 - loss: 0.5828 - main_output_accuracy: 0.9025 - main_output_loss: 0.2487"
          ]
        },
        {
          "output_type": "stream",
          "name": "stderr",
          "text": [
            "WARNING:absl:You are saving your model as an HDF5 file via `model.save()` or `keras.saving.save_model(model)`. This file format is considered legacy. We recommend using instead the native Keras format, e.g. `model.save('my_model.keras')` or `keras.saving.save_model(model, 'my_model.keras')`. \n"
          ]
        },
        {
          "output_type": "stream",
          "name": "stdout",
          "text": [
            "\b\b\b\b\b\b\b\b\b\b\b\b\b\b\b\b\b\b\b\b\b\b\b\b\b\b\b\b\b\b\b\b\b\b\b\b\b\b\b\b\b\b\b\b\b\b\b\b\b\b\b\b\b\b\b\b\b\b\b\b\b\b\b\b\b\b\b\b\b\b\b\b\b\b\b\b\b\b\b\b\b\b\b\b\b\b\b\b\b\b\b\b\b\b\b\b\b\b\b\b\b\b\b\b\b\b\b\b\b\b\b\b\b\b\b\b\b\b\b\b\b\b\b\b\b\b\b\b\b\b\b\b\b\b\b\b\b\b\b\b\b\b\b\b\b\b\b\b\b\b\b\b\b\b\b\b\b\b\b\b\b\b\b\b\b\b\b\b\b\b\r\u001b[1m354/354\u001b[0m \u001b[32m━━━━━━━━━━━━━━━━━━━━\u001b[0m\u001b[37m\u001b[0m \u001b[1m20s\u001b[0m 32ms/step - aux_output_accuracy: 0.8585 - aux_output_loss: 0.3341 - loss: 0.5829 - main_output_accuracy: 0.9025 - main_output_loss: 0.2488 - val_aux_output_accuracy: 0.8481 - val_aux_output_loss: 0.3668 - val_loss: 0.7499 - val_main_output_accuracy: 0.8517 - val_main_output_loss: 0.3827\n",
            "Epoch 6/100\n",
            "\u001b[1m353/354\u001b[0m \u001b[32m━━━━━━━━━━━━━━━━━━━\u001b[0m\u001b[37m━\u001b[0m \u001b[1m0s\u001b[0m 27ms/step - aux_output_accuracy: 0.8780 - aux_output_loss: 0.2963 - loss: 0.5131 - main_output_accuracy: 0.9160 - main_output_loss: 0.2169"
          ]
        },
        {
          "output_type": "stream",
          "name": "stderr",
          "text": [
            "WARNING:absl:You are saving your model as an HDF5 file via `model.save()` or `keras.saving.save_model(model)`. This file format is considered legacy. We recommend using instead the native Keras format, e.g. `model.save('my_model.keras')` or `keras.saving.save_model(model, 'my_model.keras')`. \n"
          ]
        },
        {
          "output_type": "stream",
          "name": "stdout",
          "text": [
            "\b\b\b\b\b\b\b\b\b\b\b\b\b\b\b\b\b\b\b\b\b\b\b\b\b\b\b\b\b\b\b\b\b\b\b\b\b\b\b\b\b\b\b\b\b\b\b\b\b\b\b\b\b\b\b\b\b\b\b\b\b\b\b\b\b\b\b\b\b\b\b\b\b\b\b\b\b\b\b\b\b\b\b\b\b\b\b\b\b\b\b\b\b\b\b\b\b\b\b\b\b\b\b\b\b\b\b\b\b\b\b\b\b\b\b\b\b\b\b\b\b\b\b\b\b\b\b\b\b\b\b\b\b\b\b\b\b\b\b\b\b\b\b\b\b\b\b\b\b\b\b\b\b\b\b\b\b\b\b\b\b\b\b\b\b\b\b\b\b\b\r\u001b[1m354/354\u001b[0m \u001b[32m━━━━━━━━━━━━━━━━━━━━\u001b[0m\u001b[37m\u001b[0m \u001b[1m11s\u001b[0m 31ms/step - aux_output_accuracy: 0.8780 - aux_output_loss: 0.2963 - loss: 0.5132 - main_output_accuracy: 0.9160 - main_output_loss: 0.2169 - val_aux_output_accuracy: 0.8515 - val_aux_output_loss: 0.3568 - val_loss: 0.7407 - val_main_output_accuracy: 0.8573 - val_main_output_loss: 0.3836\n",
            "Epoch 7/100\n",
            "\u001b[1m354/354\u001b[0m \u001b[32m━━━━━━━━━━━━━━━━━━━━\u001b[0m\u001b[37m\u001b[0m \u001b[1m0s\u001b[0m 26ms/step - aux_output_accuracy: 0.8869 - aux_output_loss: 0.2750 - loss: 0.4649 - main_output_accuracy: 0.9251 - main_output_loss: 0.1899"
          ]
        },
        {
          "output_type": "stream",
          "name": "stderr",
          "text": [
            "WARNING:absl:You are saving your model as an HDF5 file via `model.save()` or `keras.saving.save_model(model)`. This file format is considered legacy. We recommend using instead the native Keras format, e.g. `model.save('my_model.keras')` or `keras.saving.save_model(model, 'my_model.keras')`. \n"
          ]
        },
        {
          "output_type": "stream",
          "name": "stdout",
          "text": [
            "\b\b\b\b\b\b\b\b\b\b\b\b\b\b\b\b\b\b\b\b\b\b\b\b\b\b\b\b\b\b\b\b\b\b\b\b\b\b\b\b\b\b\b\b\b\b\b\b\b\b\b\b\b\b\b\b\b\b\b\b\b\b\b\b\b\b\b\b\b\b\b\b\b\b\b\b\b\b\b\b\b\b\b\b\b\b\b\b\b\b\b\b\b\b\b\b\b\b\b\b\b\b\b\b\b\b\b\b\b\b\b\b\b\b\b\b\b\b\b\b\b\b\b\b\b\b\b\b\b\b\b\b\b\b\b\b\b\b\b\b\b\b\b\b\b\b\b\b\b\b\b\b\b\b\b\b\b\b\b\b\b\b\b\b\b\b\b\b\b\b\r\u001b[1m354/354\u001b[0m \u001b[32m━━━━━━━━━━━━━━━━━━━━\u001b[0m\u001b[37m\u001b[0m \u001b[1m20s\u001b[0m 30ms/step - aux_output_accuracy: 0.8869 - aux_output_loss: 0.2750 - loss: 0.4649 - main_output_accuracy: 0.9251 - main_output_loss: 0.1899 - val_aux_output_accuracy: 0.8577 - val_aux_output_loss: 0.3511 - val_loss: 0.7426 - val_main_output_accuracy: 0.8581 - val_main_output_loss: 0.3913\n",
            "Epoch 8/100\n",
            "\u001b[1m352/354\u001b[0m \u001b[32m━━━━━━━━━━━━━━━━━━━\u001b[0m\u001b[37m━\u001b[0m \u001b[1m0s\u001b[0m 26ms/step - aux_output_accuracy: 0.8965 - aux_output_loss: 0.2552 - loss: 0.4281 - main_output_accuracy: 0.9354 - main_output_loss: 0.1729"
          ]
        },
        {
          "output_type": "stream",
          "name": "stderr",
          "text": [
            "WARNING:absl:You are saving your model as an HDF5 file via `model.save()` or `keras.saving.save_model(model)`. This file format is considered legacy. We recommend using instead the native Keras format, e.g. `model.save('my_model.keras')` or `keras.saving.save_model(model, 'my_model.keras')`. \n"
          ]
        },
        {
          "output_type": "stream",
          "name": "stdout",
          "text": [
            "\b\b\b\b\b\b\b\b\b\b\b\b\b\b\b\b\b\b\b\b\b\b\b\b\b\b\b\b\b\b\b\b\b\b\b\b\b\b\b\b\b\b\b\b\b\b\b\b\b\b\b\b\b\b\b\b\b\b\b\b\b\b\b\b\b\b\b\b\b\b\b\b\b\b\b\b\b\b\b\b\b\b\b\b\b\b\b\b\b\b\b\b\b\b\b\b\b\b\b\b\b\b\b\b\b\b\b\b\b\b\b\b\b\b\b\b\b\b\b\b\b\b\b\b\b\b\b\b\b\b\b\b\b\b\b\b\b\b\b\b\b\b\b\b\b\b\b\b\b\b\b\b\b\b\b\b\b\b\b\b\b\b\b\b\b\b\b\b\b\b\r\u001b[1m354/354\u001b[0m \u001b[32m━━━━━━━━━━━━━━━━━━━━\u001b[0m\u001b[37m\u001b[0m \u001b[1m11s\u001b[0m 30ms/step - aux_output_accuracy: 0.8965 - aux_output_loss: 0.2552 - loss: 0.4282 - main_output_accuracy: 0.9354 - main_output_loss: 0.1730 - val_aux_output_accuracy: 0.8556 - val_aux_output_loss: 0.3517 - val_loss: 0.7324 - val_main_output_accuracy: 0.8599 - val_main_output_loss: 0.3803\n",
            "Epoch 9/100\n",
            "\u001b[1m354/354\u001b[0m \u001b[32m━━━━━━━━━━━━━━━━━━━━\u001b[0m\u001b[37m\u001b[0m \u001b[1m11s\u001b[0m 30ms/step - aux_output_accuracy: 0.9018 - aux_output_loss: 0.2416 - loss: 0.3987 - main_output_accuracy: 0.9387 - main_output_loss: 0.1570 - val_aux_output_accuracy: 0.8582 - val_aux_output_loss: 0.3512 - val_loss: 0.7530 - val_main_output_accuracy: 0.8592 - val_main_output_loss: 0.4011\n",
            "Epoch 10/100\n",
            "\u001b[1m354/354\u001b[0m \u001b[32m━━━━━━━━━━━━━━━━━━━━\u001b[0m\u001b[37m\u001b[0m \u001b[1m21s\u001b[0m 33ms/step - aux_output_accuracy: 0.9044 - aux_output_loss: 0.2349 - loss: 0.3827 - main_output_accuracy: 0.9451 - main_output_loss: 0.1479 - val_aux_output_accuracy: 0.8598 - val_aux_output_loss: 0.3510 - val_loss: 0.7600 - val_main_output_accuracy: 0.8585 - val_main_output_loss: 0.4086\n",
            "Epoch 11/100\n",
            "\u001b[1m353/354\u001b[0m \u001b[32m━━━━━━━━━━━━━━━━━━━\u001b[0m\u001b[37m━\u001b[0m \u001b[1m0s\u001b[0m 31ms/step - aux_output_accuracy: 0.9122 - aux_output_loss: 0.2188 - loss: 0.3523 - main_output_accuracy: 0.9502 - main_output_loss: 0.1335"
          ]
        },
        {
          "output_type": "stream",
          "name": "stderr",
          "text": [
            "WARNING:absl:You are saving your model as an HDF5 file via `model.save()` or `keras.saving.save_model(model)`. This file format is considered legacy. We recommend using instead the native Keras format, e.g. `model.save('my_model.keras')` or `keras.saving.save_model(model, 'my_model.keras')`. \n"
          ]
        },
        {
          "output_type": "stream",
          "name": "stdout",
          "text": [
            "\b\b\b\b\b\b\b\b\b\b\b\b\b\b\b\b\b\b\b\b\b\b\b\b\b\b\b\b\b\b\b\b\b\b\b\b\b\b\b\b\b\b\b\b\b\b\b\b\b\b\b\b\b\b\b\b\b\b\b\b\b\b\b\b\b\b\b\b\b\b\b\b\b\b\b\b\b\b\b\b\b\b\b\b\b\b\b\b\b\b\b\b\b\b\b\b\b\b\b\b\b\b\b\b\b\b\b\b\b\b\b\b\b\b\b\b\b\b\b\b\b\b\b\b\b\b\b\b\b\b\b\b\b\b\b\b\b\b\b\b\b\b\b\b\b\b\b\b\b\b\b\b\b\b\b\b\b\b\b\b\b\b\b\b\b\b\b\b\b\b\r\u001b[1m354/354\u001b[0m \u001b[32m━━━━━━━━━━━━━━━━━━━━\u001b[0m\u001b[37m\u001b[0m \u001b[1m21s\u001b[0m 34ms/step - aux_output_accuracy: 0.9122 - aux_output_loss: 0.2189 - loss: 0.3524 - main_output_accuracy: 0.9502 - main_output_loss: 0.1335 - val_aux_output_accuracy: 0.8630 - val_aux_output_loss: 0.3526 - val_loss: 0.7668 - val_main_output_accuracy: 0.8626 - val_main_output_loss: 0.4137\n",
            "Epoch 12/100\n",
            "\u001b[1m354/354\u001b[0m \u001b[32m━━━━━━━━━━━━━━━━━━━━\u001b[0m\u001b[37m\u001b[0m \u001b[1m0s\u001b[0m 28ms/step - aux_output_accuracy: 0.9104 - aux_output_loss: 0.2116 - loss: 0.3256 - main_output_accuracy: 0.9582 - main_output_loss: 0.1140"
          ]
        },
        {
          "output_type": "stream",
          "name": "stderr",
          "text": [
            "WARNING:absl:You are saving your model as an HDF5 file via `model.save()` or `keras.saving.save_model(model)`. This file format is considered legacy. We recommend using instead the native Keras format, e.g. `model.save('my_model.keras')` or `keras.saving.save_model(model, 'my_model.keras')`. \n"
          ]
        },
        {
          "output_type": "stream",
          "name": "stdout",
          "text": [
            "\b\b\b\b\b\b\b\b\b\b\b\b\b\b\b\b\b\b\b\b\b\b\b\b\b\b\b\b\b\b\b\b\b\b\b\b\b\b\b\b\b\b\b\b\b\b\b\b\b\b\b\b\b\b\b\b\b\b\b\b\b\b\b\b\b\b\b\b\b\b\b\b\b\b\b\b\b\b\b\b\b\b\b\b\b\b\b\b\b\b\b\b\b\b\b\b\b\b\b\b\b\b\b\b\b\b\b\b\b\b\b\b\b\b\b\b\b\b\b\b\b\b\b\b\b\b\b\b\b\b\b\b\b\b\b\b\b\b\b\b\b\b\b\b\b\b\b\b\b\b\b\b\b\b\b\b\b\b\b\b\b\b\b\b\b\b\b\b\b\b\r\u001b[1m354/354\u001b[0m \u001b[32m━━━━━━━━━━━━━━━━━━━━\u001b[0m\u001b[37m\u001b[0m \u001b[1m20s\u001b[0m 32ms/step - aux_output_accuracy: 0.9104 - aux_output_loss: 0.2116 - loss: 0.3257 - main_output_accuracy: 0.9582 - main_output_loss: 0.1141 - val_aux_output_accuracy: 0.8606 - val_aux_output_loss: 0.3580 - val_loss: 0.7838 - val_main_output_accuracy: 0.8639 - val_main_output_loss: 0.4254\n",
            "Epoch 13/100\n",
            "\u001b[1m353/354\u001b[0m \u001b[32m━━━━━━━━━━━━━━━━━━━\u001b[0m\u001b[37m━\u001b[0m \u001b[1m0s\u001b[0m 28ms/step - aux_output_accuracy: 0.9193 - aux_output_loss: 0.1986 - loss: 0.3049 - main_output_accuracy: 0.9601 - main_output_loss: 0.1063"
          ]
        },
        {
          "output_type": "stream",
          "name": "stderr",
          "text": [
            "WARNING:absl:You are saving your model as an HDF5 file via `model.save()` or `keras.saving.save_model(model)`. This file format is considered legacy. We recommend using instead the native Keras format, e.g. `model.save('my_model.keras')` or `keras.saving.save_model(model, 'my_model.keras')`. \n"
          ]
        },
        {
          "output_type": "stream",
          "name": "stdout",
          "text": [
            "\b\b\b\b\b\b\b\b\b\b\b\b\b\b\b\b\b\b\b\b\b\b\b\b\b\b\b\b\b\b\b\b\b\b\b\b\b\b\b\b\b\b\b\b\b\b\b\b\b\b\b\b\b\b\b\b\b\b\b\b\b\b\b\b\b\b\b\b\b\b\b\b\b\b\b\b\b\b\b\b\b\b\b\b\b\b\b\b\b\b\b\b\b\b\b\b\b\b\b\b\b\b\b\b\b\b\b\b\b\b\b\b\b\b\b\b\b\b\b\b\b\b\b\b\b\b\b\b\b\b\b\b\b\b\b\b\b\b\b\b\b\b\b\b\b\b\b\b\b\b\b\b\b\b\b\b\b\b\b\b\b\b\b\b\b\b\b\b\b\b\r\u001b[1m354/354\u001b[0m \u001b[32m━━━━━━━━━━━━━━━━━━━━\u001b[0m\u001b[37m\u001b[0m \u001b[1m20s\u001b[0m 31ms/step - aux_output_accuracy: 0.9193 - aux_output_loss: 0.1986 - loss: 0.3050 - main_output_accuracy: 0.9601 - main_output_loss: 0.1064 - val_aux_output_accuracy: 0.8633 - val_aux_output_loss: 0.3569 - val_loss: 0.7849 - val_main_output_accuracy: 0.8654 - val_main_output_loss: 0.4274\n",
            "Epoch 14/100\n",
            "\u001b[1m352/354\u001b[0m \u001b[32m━━━━━━━━━━━━━━━━━━━\u001b[0m\u001b[37m━\u001b[0m \u001b[1m0s\u001b[0m 27ms/step - aux_output_accuracy: 0.9225 - aux_output_loss: 0.1994 - loss: 0.3052 - main_output_accuracy: 0.9619 - main_output_loss: 0.1057"
          ]
        },
        {
          "output_type": "stream",
          "name": "stderr",
          "text": [
            "WARNING:absl:You are saving your model as an HDF5 file via `model.save()` or `keras.saving.save_model(model)`. This file format is considered legacy. We recommend using instead the native Keras format, e.g. `model.save('my_model.keras')` or `keras.saving.save_model(model, 'my_model.keras')`. \n"
          ]
        },
        {
          "output_type": "stream",
          "name": "stdout",
          "text": [
            "\b\b\b\b\b\b\b\b\b\b\b\b\b\b\b\b\b\b\b\b\b\b\b\b\b\b\b\b\b\b\b\b\b\b\b\b\b\b\b\b\b\b\b\b\b\b\b\b\b\b\b\b\b\b\b\b\b\b\b\b\b\b\b\b\b\b\b\b\b\b\b\b\b\b\b\b\b\b\b\b\b\b\b\b\b\b\b\b\b\b\b\b\b\b\b\b\b\b\b\b\b\b\b\b\b\b\b\b\b\b\b\b\b\b\b\b\b\b\b\b\b\b\b\b\b\b\b\b\b\b\b\b\b\b\b\b\b\b\b\b\b\b\b\b\b\b\b\b\b\b\b\b\b\b\b\b\b\b\b\b\b\b\b\b\b\b\b\b\b\b\r\u001b[1m354/354\u001b[0m \u001b[32m━━━━━━━━━━━━━━━━━━━━\u001b[0m\u001b[37m\u001b[0m \u001b[1m21s\u001b[0m 31ms/step - aux_output_accuracy: 0.9225 - aux_output_loss: 0.1995 - loss: 0.3052 - main_output_accuracy: 0.9619 - main_output_loss: 0.1057 - val_aux_output_accuracy: 0.8670 - val_aux_output_loss: 0.3594 - val_loss: 0.8089 - val_main_output_accuracy: 0.8663 - val_main_output_loss: 0.4489\n",
            "Epoch 15/100\n",
            "\u001b[1m354/354\u001b[0m \u001b[32m━━━━━━━━━━━━━━━━━━━━\u001b[0m\u001b[37m\u001b[0m \u001b[1m10s\u001b[0m 28ms/step - aux_output_accuracy: 0.9261 - aux_output_loss: 0.1892 - loss: 0.2881 - main_output_accuracy: 0.9640 - main_output_loss: 0.0989 - val_aux_output_accuracy: 0.8619 - val_aux_output_loss: 0.3750 - val_loss: 0.8422 - val_main_output_accuracy: 0.8622 - val_main_output_loss: 0.4667\n",
            "Epoch 16/100\n",
            "\u001b[1m354/354\u001b[0m \u001b[32m━━━━━━━━━━━━━━━━━━━━\u001b[0m\u001b[37m\u001b[0m \u001b[1m0s\u001b[0m 27ms/step - aux_output_accuracy: 0.9287 - aux_output_loss: 0.1804 - loss: 0.2703 - main_output_accuracy: 0.9685 - main_output_loss: 0.0898"
          ]
        },
        {
          "output_type": "stream",
          "name": "stderr",
          "text": [
            "WARNING:absl:You are saving your model as an HDF5 file via `model.save()` or `keras.saving.save_model(model)`. This file format is considered legacy. We recommend using instead the native Keras format, e.g. `model.save('my_model.keras')` or `keras.saving.save_model(model, 'my_model.keras')`. \n"
          ]
        },
        {
          "output_type": "stream",
          "name": "stdout",
          "text": [
            "\b\b\b\b\b\b\b\b\b\b\b\b\b\b\b\b\b\b\b\b\b\b\b\b\b\b\b\b\b\b\b\b\b\b\b\b\b\b\b\b\b\b\b\b\b\b\b\b\b\b\b\b\b\b\b\b\b\b\b\b\b\b\b\b\b\b\b\b\b\b\b\b\b\b\b\b\b\b\b\b\b\b\b\b\b\b\b\b\b\b\b\b\b\b\b\b\b\b\b\b\b\b\b\b\b\b\b\b\b\b\b\b\b\b\b\b\b\b\b\b\b\b\b\b\b\b\b\b\b\b\b\b\b\b\b\b\b\b\b\b\b\b\b\b\b\b\b\b\b\b\b\b\b\b\b\b\b\b\b\b\b\b\b\b\b\b\b\b\b\b\r\u001b[1m354/354\u001b[0m \u001b[32m━━━━━━━━━━━━━━━━━━━━\u001b[0m\u001b[37m\u001b[0m \u001b[1m11s\u001b[0m 31ms/step - aux_output_accuracy: 0.9286 - aux_output_loss: 0.1805 - loss: 0.2703 - main_output_accuracy: 0.9685 - main_output_loss: 0.0899 - val_aux_output_accuracy: 0.8694 - val_aux_output_loss: 0.3580 - val_loss: 0.8000 - val_main_output_accuracy: 0.8694 - val_main_output_loss: 0.4418\n",
            "Epoch 17/100\n",
            "\u001b[1m354/354\u001b[0m \u001b[32m━━━━━━━━━━━━━━━━━━━━\u001b[0m\u001b[37m\u001b[0m \u001b[1m21s\u001b[0m 32ms/step - aux_output_accuracy: 0.9317 - aux_output_loss: 0.1700 - loss: 0.2506 - main_output_accuracy: 0.9706 - main_output_loss: 0.0806 - val_aux_output_accuracy: 0.8647 - val_aux_output_loss: 0.3658 - val_loss: 0.8343 - val_main_output_accuracy: 0.8623 - val_main_output_loss: 0.4679\n",
            "Epoch 18/100\n",
            "\u001b[1m354/354\u001b[0m \u001b[32m━━━━━━━━━━━━━━━━━━━━\u001b[0m\u001b[37m\u001b[0m \u001b[1m19s\u001b[0m 29ms/step - aux_output_accuracy: 0.9352 - aux_output_loss: 0.1708 - loss: 0.2418 - main_output_accuracy: 0.9749 - main_output_loss: 0.0710 - val_aux_output_accuracy: 0.8674 - val_aux_output_loss: 0.3598 - val_loss: 0.8442 - val_main_output_accuracy: 0.8645 - val_main_output_loss: 0.4838\n",
            "Epoch 19/100\n",
            "\u001b[1m354/354\u001b[0m \u001b[32m━━━━━━━━━━━━━━━━━━━━\u001b[0m\u001b[37m\u001b[0m \u001b[1m21s\u001b[0m 30ms/step - aux_output_accuracy: 0.9342 - aux_output_loss: 0.1696 - loss: 0.2488 - main_output_accuracy: 0.9712 - main_output_loss: 0.0792 - val_aux_output_accuracy: 0.8673 - val_aux_output_loss: 0.3634 - val_loss: 0.8558 - val_main_output_accuracy: 0.8653 - val_main_output_loss: 0.4919\n",
            "Epoch 20/100\n",
            "\u001b[1m354/354\u001b[0m \u001b[32m━━━━━━━━━━━━━━━━━━━━\u001b[0m\u001b[37m\u001b[0m \u001b[1m21s\u001b[0m 32ms/step - aux_output_accuracy: 0.9313 - aux_output_loss: 0.1695 - loss: 0.2447 - main_output_accuracy: 0.9714 - main_output_loss: 0.0752 - val_aux_output_accuracy: 0.8658 - val_aux_output_loss: 0.3724 - val_loss: 0.8656 - val_main_output_accuracy: 0.8639 - val_main_output_loss: 0.4925\n",
            "Epoch 21/100\n",
            "\u001b[1m354/354\u001b[0m \u001b[32m━━━━━━━━━━━━━━━━━━━━\u001b[0m\u001b[37m\u001b[0m \u001b[1m19s\u001b[0m 29ms/step - aux_output_accuracy: 0.9381 - aux_output_loss: 0.1544 - loss: 0.2163 - main_output_accuracy: 0.9779 - main_output_loss: 0.0619 - val_aux_output_accuracy: 0.8687 - val_aux_output_loss: 0.3666 - val_loss: 0.8651 - val_main_output_accuracy: 0.8676 - val_main_output_loss: 0.4980\n",
            "Epoch 22/100\n",
            "\u001b[1m354/354\u001b[0m \u001b[32m━━━━━━━━━━━━━━━━━━━━\u001b[0m\u001b[37m\u001b[0m \u001b[1m12s\u001b[0m 33ms/step - aux_output_accuracy: 0.9360 - aux_output_loss: 0.1682 - loss: 0.2405 - main_output_accuracy: 0.9755 - main_output_loss: 0.0723 - val_aux_output_accuracy: 0.8673 - val_aux_output_loss: 0.3802 - val_loss: 0.8968 - val_main_output_accuracy: 0.8654 - val_main_output_loss: 0.5159\n",
            "Epoch 23/100\n",
            "\u001b[1m354/354\u001b[0m \u001b[32m━━━━━━━━━━━━━━━━━━━━\u001b[0m\u001b[37m\u001b[0m \u001b[1m11s\u001b[0m 31ms/step - aux_output_accuracy: 0.9397 - aux_output_loss: 0.1530 - loss: 0.2267 - main_output_accuracy: 0.9730 - main_output_loss: 0.0737 - val_aux_output_accuracy: 0.8651 - val_aux_output_loss: 0.3828 - val_loss: 0.9045 - val_main_output_accuracy: 0.8643 - val_main_output_loss: 0.5212\n",
            "Epoch 24/100\n",
            "\u001b[1m354/354\u001b[0m \u001b[32m━━━━━━━━━━━━━━━━━━━━\u001b[0m\u001b[37m\u001b[0m \u001b[1m11s\u001b[0m 31ms/step - aux_output_accuracy: 0.9388 - aux_output_loss: 0.1555 - loss: 0.2199 - main_output_accuracy: 0.9760 - main_output_loss: 0.0644 - val_aux_output_accuracy: 0.8650 - val_aux_output_loss: 0.3847 - val_loss: 0.9216 - val_main_output_accuracy: 0.8658 - val_main_output_loss: 0.5362\n",
            "Epoch 25/100\n",
            "\u001b[1m354/354\u001b[0m \u001b[32m━━━━━━━━━━━━━━━━━━━━\u001b[0m\u001b[37m\u001b[0m \u001b[1m20s\u001b[0m 30ms/step - aux_output_accuracy: 0.9389 - aux_output_loss: 0.1531 - loss: 0.2184 - main_output_accuracy: 0.9774 - main_output_loss: 0.0653 - val_aux_output_accuracy: 0.8667 - val_aux_output_loss: 0.3886 - val_loss: 0.9349 - val_main_output_accuracy: 0.8670 - val_main_output_loss: 0.5454\n",
            "Epoch 26/100\n",
            "\u001b[1m354/354\u001b[0m \u001b[32m━━━━━━━━━━━━━━━━━━━━\u001b[0m\u001b[37m\u001b[0m \u001b[1m21s\u001b[0m 32ms/step - aux_output_accuracy: 0.9453 - aux_output_loss: 0.1369 - loss: 0.1907 - main_output_accuracy: 0.9807 - main_output_loss: 0.0538 - val_aux_output_accuracy: 0.8678 - val_aux_output_loss: 0.3790 - val_loss: 0.9213 - val_main_output_accuracy: 0.8684 - val_main_output_loss: 0.5413\n",
            "Epoch 26: early stopping\n",
            "Restoring model weights from the end of the best epoch: 16.\n"
          ]
        }
      ]
    },
    {
      "cell_type": "code",
      "source": [
        "# Plot learning curves for main output\n",
        "plt.plot(history3.history['main_output_accuracy'], label='Train Acc (main)')\n",
        "plt.plot(history3.history['val_main_output_accuracy'], label='Val Acc (main)')\n",
        "plt.xlabel('Epoch')\n",
        "plt.ylabel('Accuracy')\n",
        "plt.title('Learning Curve - Functional API with Auxiliary Output')\n",
        "plt.legend()\n",
        "plt.grid(True)\n",
        "plt.show()\n"
      ],
      "metadata": {
        "id": "MV5jldEeBMUT",
        "colab": {
          "base_uri": "https://localhost:8080/",
          "height": 472
        },
        "outputId": "4cfaa690-06a1-4b6c-eb78-d348986ce0aa"
      },
      "execution_count": 61,
      "outputs": [
        {
          "output_type": "display_data",
          "data": {
            "text/plain": [
              "<Figure size 640x480 with 1 Axes>"
            ],
            "image/png": "[encoded data removed]"
          },
          "metadata": {}
        }
      ]
    },
    {
      "cell_type": "code",
      "source": [
        "# Model 3 Evaluation"
      ],
      "metadata": {
        "id": "Bz8UPksmOj0c"
      },
      "execution_count": 45,
      "outputs": []
    },
    {
      "cell_type": "code",
      "source": [
        "# Evaluate model3\n",
        "results = model3.evaluate(X_valid, [y_valid, y_valid])\n",
        "print(f\"Main Output Accuracy: {results[3]:.4f}\")  # main_output_accuracy is at index 3\n",
        "print(f\"Auxiliary Output Accuracy: {results[4]:.4f}\")\n"
      ],
      "metadata": {
        "id": "nDoVgXf0BNQN",
        "colab": {
          "base_uri": "https://localhost:8080/"
        },
        "outputId": "e9ad7fa4-dcfc-4b05-f8af-ed3b800c5ba4"
      },
      "execution_count": 62,
      "outputs": [
        {
          "output_type": "stream",
          "name": "stdout",
          "text": [
            "\u001b[1m236/236\u001b[0m \u001b[32m━━━━━━━━━━━━━━━━━━━━\u001b[0m\u001b[37m\u001b[0m \u001b[1m1s\u001b[0m 6ms/step - aux_output_accuracy: 0.8690 - aux_output_loss: 0.3607 - loss: 0.8140 - main_output_accuracy: 0.8678 - main_output_loss: 0.4533\n",
            "Main Output Accuracy: 0.8694\n",
            "Auxiliary Output Accuracy: 0.8694\n"
          ]
        }
      ]
    },
    {
      "cell_type": "code",
      "source": [
        "# Compate models in a table"
      ],
      "metadata": {
        "id": "TnoeUDQBbk7i"
      },
      "execution_count": 47,
      "outputs": []
    },
    {
      "cell_type": "code",
      "source": [
        "import pandas as pd\n",
        "\n",
        "# Build comparison table\n",
        "comparison_df = pd.DataFrame({\n",
        "    \"Model\": [\"Model 1: Sequential CNN\",\n",
        "              \"Model 2: Functional (Wide & Deep)\",\n",
        "              \"Model 3: Functional + Auxiliary\"],\n",
        "    \"Validation Accuracy\": [acc, acc2, results[3]],\n",
        "    \"Auxiliary Accuracy\": [None, None, results[4]],\n",
        "    \"Loss\": [loss, loss2, results[0]]\n",
        "})\n",
        "\n",
        "# Show comparison table\n",
        "print(\"Model Comparison Table:\")\n",
        "display(comparison_df)"
      ],
      "metadata": {
        "colab": {
          "base_uri": "https://localhost:8080/",
          "height": 162
        },
        "id": "yBtvWLnaUzEa",
        "outputId": "267f3d6c-8db0-4e93-9f15-57a1d746eccb"
      },
      "execution_count": 64,
      "outputs": [
        {
          "output_type": "stream",
          "name": "stdout",
          "text": [
            "Model Comparison Table:\n"
          ]
        },
        {
          "output_type": "display_data",
          "data": {
            "text/plain": [
              "                               Model  Validation Accuracy  Auxiliary Accuracy  \\\n",
              "0            Model 1: Sequential CNN             0.913315                 NaN   \n",
              "1  Model 2: Functional (Wide & Deep)             0.847869                 NaN   \n",
              "2    Model 3: Functional + Auxiliary             0.869375            0.869375   \n",
              "\n",
              "       Loss  \n",
              "0  0.245034  \n",
              "1  0.400979  \n",
              "2  0.800041  "
            ],
            "text/html": [
              "\n",
              "  <div id=\"df-78fa5bfd-c88e-46a0-ae77-0528a08e93a7\" class=\"colab-df-container\">\n",
              "    <div>\n",
              "<style scoped>\n",
              "    .dataframe tbody tr th:only-of-type {\n",
              "        vertical-align: middle;\n",
              "    }\n",
              "\n",
              "    .dataframe tbody tr th {\n",
              "        vertical-align: top;\n",
              "    }\n",
              "\n",
              "    .dataframe thead th {\n",
              "        text-align: right;\n",
              "    }\n",
              "</style>\n",
              "<table border=\"1\" class=\"dataframe\">\n",
              "  <thead>\n",
              "    <tr style=\"text-align: right;\">\n",
              "      <th></th>\n",
              "      <th>Model</th>\n",
              "      <th>Validation Accuracy</th>\n",
              "      <th>Auxiliary Accuracy</th>\n",
              "      <th>Loss</th>\n",
              "    </tr>\n",
              "  </thead>\n",
              "  <tbody>\n",
              "    <tr>\n",
              "      <th>0</th>\n",
              "      <td>Model 1: Sequential CNN</td>\n",
              "      <td>0.913315</td>\n",
              "      <td>NaN</td>\n",
              "      <td>0.245034</td>\n",
              "    </tr>\n",
              "    <tr>\n",
              "      <th>1</th>\n",
              "      <td>Model 2: Functional (Wide &amp; Deep)</td>\n",
              "      <td>0.847869</td>\n",
              "      <td>NaN</td>\n",
              "      <td>0.400979</td>\n",
              "    </tr>\n",
              "    <tr>\n",
              "      <th>2</th>\n",
              "      <td>Model 3: Functional + Auxiliary</td>\n",
              "      <td>0.869375</td>\n",
              "      <td>0.869375</td>\n",
              "      <td>0.800041</td>\n",
              "    </tr>\n",
              "  </tbody>\n",
              "</table>\n",
              "</div>\n",
              "    <div class=\"colab-df-buttons\">\n",
              "\n",
              "  <div class=\"colab-df-container\">\n",
              "    <button class=\"colab-df-convert\" onclick=\"convertToInteractive('df-78fa5bfd-c88e-46a0-ae77-0528a08e93a7')\"\n",
              "            title=\"Convert this dataframe to an interactive table.\"\n",
              "            style=\"display:none;\">\n",
              "\n",
              "  <svg xmlns=\"http://www.w3.org/2000/svg\" height=\"24px\" viewBox=\"0 -960 960 960\">\n",
              "    <path d=\"M120-120v-720h720v720H120Zm60-500h600v-160H180v160Zm220 220h160v-160H400v160Zm0 220h160v-160H400v160ZM180-400h160v-160H180v160Zm440 0h160v-160H620v160ZM180-180h160v-160H180v160Zm440 0h160v-160H620v160Z\"/>\n",
              "  </svg>\n",
              "    </button>\n",
              "\n",
              "  <style>\n",
              "    .colab-df-container {\n",
              "      display:flex;\n",
              "      gap: 12px;\n",
              "    }\n",
              "\n",
              "    .colab-df-convert {\n",
              "      background-color: #E8F0FE;\n",
              "      border: none;\n",
              "      border-radius: 50%;\n",
              "      cursor: pointer;\n",
              "      display: none;\n",
              "      fill: #1967D2;\n",
              "      height: 32px;\n",
              "      padding: 0 0 0 0;\n",
              "      width: 32px;\n",
              "    }\n",
              "\n",
              "    .colab-df-convert:hover {\n",
              "      background-color: #E2EBFA;\n",
              "      box-shadow: 0px 1px 2px rgba(60, 64, 67, 0.3), 0px 1px 3px 1px rgba(60, 64, 67, 0.15);\n",
              "      fill: #174EA6;\n",
              "    }\n",
              "\n",
              "    .colab-df-buttons div {\n",
              "      margin-bottom: 4px;\n",
              "    }\n",
              "\n",
              "    [theme=dark] .colab-df-convert {\n",
              "      background-color: #3B4455;\n",
              "      fill: #D2E3FC;\n",
              "    }\n",
              "\n",
              "    [theme=dark] .colab-df-convert:hover {\n",
              "      background-color: #434B5C;\n",
              "      box-shadow: 0px 1px 3px 1px rgba(0, 0, 0, 0.15);\n",
              "      filter: drop-shadow(0px 1px 2px rgba(0, 0, 0, 0.3));\n",
              "      fill: #FFFFFF;\n",
              "    }\n",
              "  </style>\n",
              "\n",
              "    <script>\n",
              "      const buttonEl =\n",
              "        document.querySelector('#df-78fa5bfd-c88e-46a0-ae77-0528a08e93a7 button.colab-df-convert');\n",
              "      buttonEl.style.display =\n",
              "        google.colab.kernel.accessAllowed ? 'block' : 'none';\n",
              "\n",
              "      async function convertToInteractive(key) {\n",
              "        const element = document.querySelector('#df-78fa5bfd-c88e-46a0-ae77-0528a08e93a7');\n",
              "        const dataTable =\n",
              "          await google.colab.kernel.invokeFunction('convertToInteractive',\n",
              "                                                    [key], {});\n",
              "        if (!dataTable) return;\n",
              "\n",
              "        const docLinkHtml = 'Like what you see? Visit the ' +\n",
              "          '<a target=\"_blank\" href=https://colab.research.google.com/notebooks/data_table.ipynb>data table notebook</a>'\n",
              "          + ' to learn more about interactive tables.';\n",
              "        element.innerHTML = '';\n",
              "        dataTable['output_type'] = 'display_data';\n",
              "        await google.colab.output.renderOutput(dataTable, element);\n",
              "        const docLink = document.createElement('div');\n",
              "        docLink.innerHTML = docLinkHtml;\n",
              "        element.appendChild(docLink);\n",
              "      }\n",
              "    </script>\n",
              "  </div>\n",
              "\n",
              "\n",
              "<div id=\"df-8aa77893-5dbc-462a-a67f-db40c445cd66\">\n",
              "  <button class=\"colab-df-quickchart\" onclick=\"quickchart('df-8aa77893-5dbc-462a-a67f-db40c445cd66')\"\n",
              "            title=\"Suggest charts\"\n",
              "            style=\"display:none;\">\n",
              "\n",
              "<svg xmlns=\"http://www.w3.org/2000/svg\" height=\"24px\"viewBox=\"0 0 24 24\"\n",
              "     width=\"24px\">\n",
              "    <g>\n",
              "        <path d=\"M19 3H5c-1.1 0-2 .9-2 2v14c0 1.1.9 2 2 2h14c1.1 0 2-.9 2-2V5c0-1.1-.9-2-2-2zM9 17H7v-7h2v7zm4 0h-2V7h2v10zm4 0h-2v-4h2v4z\"/>\n",
              "    </g>\n",
              "</svg>\n",
              "  </button>\n",
              "\n",
              "<style>\n",
              "  .colab-df-quickchart {\n",
              "      --bg-color: #E8F0FE;\n",
              "      --fill-color: #1967D2;\n",
              "      --hover-bg-color: #E2EBFA;\n",
              "      --hover-fill-color: #174EA6;\n",
              "      --disabled-fill-color: #AAA;\n",
              "      --disabled-bg-color: #DDD;\n",
              "  }\n",
              "\n",
              "  [theme=dark] .colab-df-quickchart {\n",
              "      --bg-color: #3B4455;\n",
              "      --fill-color: #D2E3FC;\n",
              "      --hover-bg-color: #434B5C;\n",
              "      --hover-fill-color: #FFFFFF;\n",
              "      --disabled-bg-color: #3B4455;\n",
              "      --disabled-fill-color: #666;\n",
              "  }\n",
              "\n",
              "  .colab-df-quickchart {\n",
              "    background-color: var(--bg-color);\n",
              "    border: none;\n",
              "    border-radius: 50%;\n",
              "    cursor: pointer;\n",
              "    display: none;\n",
              "    fill: var(--fill-color);\n",
              "    height: 32px;\n",
              "    padding: 0;\n",
              "    width: 32px;\n",
              "  }\n",
              "\n",
              "  .colab-df-quickchart:hover {\n",
              "    background-color: var(--hover-bg-color);\n",
              "    box-shadow: 0 1px 2px rgba(60, 64, 67, 0.3), 0 1px 3px 1px rgba(60, 64, 67, 0.15);\n",
              "    fill: var(--button-hover-fill-color);\n",
              "  }\n",
              "\n",
              "  .colab-df-quickchart-complete:disabled,\n",
              "  .colab-df-quickchart-complete:disabled:hover {\n",
              "    background-color: var(--disabled-bg-color);\n",
              "    fill: var(--disabled-fill-color);\n",
              "    box-shadow: none;\n",
              "  }\n",
              "\n",
              "  .colab-df-spinner {\n",
              "    border: 2px solid var(--fill-color);\n",
              "    border-color: transparent;\n",
              "    border-bottom-color: var(--fill-color);\n",
              "    animation:\n",
              "      spin 1s steps(1) infinite;\n",
              "  }\n",
              "\n",
              "  @keyframes spin {\n",
              "    0% {\n",
              "      border-color: transparent;\n",
              "      border-bottom-color: var(--fill-color);\n",
              "      border-left-color: var(--fill-color);\n",
              "    }\n",
              "    20% {\n",
              "      border-color: transparent;\n",
              "      border-left-color: var(--fill-color);\n",
              "      border-top-color: var(--fill-color);\n",
              "    }\n",
              "    30% {\n",
              "      border-color: transparent;\n",
              "      border-left-color: var(--fill-color);\n",
              "      border-top-color: var(--fill-color);\n",
              "      border-right-color: var(--fill-color);\n",
              "    }\n",
              "    40% {\n",
              "      border-color: transparent;\n",
              "      border-right-color: var(--fill-color);\n",
              "      border-top-color: var(--fill-color);\n",
              "    }\n",
              "    60% {\n",
              "      border-color: transparent;\n",
              "      border-right-color: var(--fill-color);\n",
              "    }\n",
              "    80% {\n",
              "      border-color: transparent;\n",
              "      border-right-color: var(--fill-color);\n",
              "      border-bottom-color: var(--fill-color);\n",
              "    }\n",
              "    90% {\n",
              "      border-color: transparent;\n",
              "      border-bottom-color: var(--fill-color);\n",
              "    }\n",
              "  }\n",
              "</style>\n",
              "\n",
              "  <script>\n",
              "    async function quickchart(key) {\n",
              "      const quickchartButtonEl =\n",
              "        document.querySelector('#' + key + ' button');\n",
              "      quickchartButtonEl.disabled = true;  // To prevent multiple clicks.\n",
              "      quickchartButtonEl.classList.add('colab-df-spinner');\n",
              "      try {\n",
              "        const charts = await google.colab.kernel.invokeFunction(\n",
              "            'suggestCharts', [key], {});\n",
              "      } catch (error) {\n",
              "        console.error('Error during call to suggestCharts:', error);\n",
              "      }\n",
              "      quickchartButtonEl.classList.remove('colab-df-spinner');\n",
              "      quickchartButtonEl.classList.add('colab-df-quickchart-complete');\n",
              "    }\n",
              "    (() => {\n",
              "      let quickchartButtonEl =\n",
              "        document.querySelector('#df-8aa77893-5dbc-462a-a67f-db40c445cd66 button');\n",
              "      quickchartButtonEl.style.display =\n",
              "        google.colab.kernel.accessAllowed ? 'block' : 'none';\n",
              "    })();\n",
              "  </script>\n",
              "</div>\n",
              "\n",
              "  <div id=\"id_718d1e3e-7e55-4279-aa22-005aee12a16a\">\n",
              "    <style>\n",
              "      .colab-df-generate {\n",
              "        background-color: #E8F0FE;\n",
              "        border: none;\n",
              "        border-radius: 50%;\n",
              "        cursor: pointer;\n",
              "        display: none;\n",
              "        fill: #1967D2;\n",
              "        height: 32px;\n",
              "        padding: 0 0 0 0;\n",
              "        width: 32px;\n",
              "      }\n",
              "\n",
              "      .colab-df-generate:hover {\n",
              "        background-color: #E2EBFA;\n",
              "        box-shadow: 0px 1px 2px rgba(60, 64, 67, 0.3), 0px 1px 3px 1px rgba(60, 64, 67, 0.15);\n",
              "        fill: #174EA6;\n",
              "      }\n",
              "\n",
              "      [theme=dark] .colab-df-generate {\n",
              "        background-color: #3B4455;\n",
              "        fill: #D2E3FC;\n",
              "      }\n",
              "\n",
              "      [theme=dark] .colab-df-generate:hover {\n",
              "        background-color: #434B5C;\n",
              "        box-shadow: 0px 1px 3px 1px rgba(0, 0, 0, 0.15);\n",
              "        filter: drop-shadow(0px 1px 2px rgba(0, 0, 0, 0.3));\n",
              "        fill: #FFFFFF;\n",
              "      }\n",
              "    </style>\n",
              "    <button class=\"colab-df-generate\" onclick=\"generateWithVariable('comparison_df')\"\n",
              "            title=\"Generate code using this dataframe.\"\n",
              "            style=\"display:none;\">\n",
              "\n",
              "  <svg xmlns=\"http://www.w3.org/2000/svg\" height=\"24px\"viewBox=\"0 0 24 24\"\n",
              "       width=\"24px\">\n",
              "    <path d=\"M7,19H8.4L18.45,9,17,7.55,7,17.6ZM5,21V16.75L18.45,3.32a2,2,0,0,1,2.83,0l1.4,1.43a1.91,1.91,0,0,1,.58,1.4,1.91,1.91,0,0,1-.58,1.4L9.25,21ZM18.45,9,17,7.55Zm-12,3A5.31,5.31,0,0,0,4.9,8.1,5.31,5.31,0,0,0,1,6.5,5.31,5.31,0,0,0,4.9,4.9,5.31,5.31,0,0,0,6.5,1,5.31,5.31,0,0,0,8.1,4.9,5.31,5.31,0,0,0,12,6.5,5.46,5.46,0,0,0,6.5,12Z\"/>\n",
              "  </svg>\n",
              "    </button>\n",
              "    <script>\n",
              "      (() => {\n",
              "      const buttonEl =\n",
              "        document.querySelector('#id_718d1e3e-7e55-4279-aa22-005aee12a16a button.colab-df-generate');\n",
              "      buttonEl.style.display =\n",
              "        google.colab.kernel.accessAllowed ? 'block' : 'none';\n",
              "\n",
              "      buttonEl.onclick = () => {\n",
              "        google.colab.notebook.generateWithVariable('comparison_df');\n",
              "      }\n",
              "      })();\n",
              "    </script>\n",
              "  </div>\n",
              "\n",
              "    </div>\n",
              "  </div>\n"
            ],
            "application/vnd.google.colaboratory.intrinsic+json": {
              "type": "dataframe",
              "variable_name": "comparison_df",
              "summary": "{\n  \"name\": \"comparison_df\",\n  \"rows\": 3,\n  \"fields\": [\n    {\n      \"column\": \"Model\",\n      \"properties\": {\n        \"dtype\": \"string\",\n        \"num_unique_values\": 3,\n        \"samples\": [\n          \"Model 1: Sequential CNN\",\n          \"Model 2: Functional (Wide & Deep)\",\n          \"Model 3: Functional + Auxiliary\"\n        ],\n        \"semantic_type\": \"\",\n        \"description\": \"\"\n      }\n    },\n    {\n      \"column\": \"Validation Accuracy\",\n      \"properties\": {\n        \"dtype\": \"number\",\n        \"std\": 0.033357408501359175,\n        \"min\": 0.8478693962097168,\n        \"max\": 0.9133147597312927,\n        \"num_unique_values\": 3,\n        \"samples\": [\n          0.9133147597312927,\n          0.8478693962097168,\n          0.8693747520446777\n        ],\n        \"semantic_type\": \"\",\n        \"description\": \"\"\n      }\n    },\n    {\n      \"column\": \"Auxiliary Accuracy\",\n      \"properties\": {\n        \"dtype\": \"number\",\n        \"std\": null,\n        \"min\": 0.8693747520446777,\n        \"max\": 0.8693747520446777,\n        \"num_unique_values\": 1,\n        \"samples\": [\n          0.8693747520446777\n        ],\n        \"semantic_type\": \"\",\n        \"description\": \"\"\n      }\n    },\n    {\n      \"column\": \"Loss\",\n      \"properties\": {\n        \"dtype\": \"number\",\n        \"std\": 0.2862406112729648,\n        \"min\": 0.24503380060195923,\n        \"max\": 0.8000408411026001,\n        \"num_unique_values\": 3,\n        \"samples\": [\n          0.24503380060195923\n        ],\n        \"semantic_type\": \"\",\n        \"description\": \"\"\n      }\n    }\n  ]\n}"
            }
          },
          "metadata": {}
        }
      ]
    },
    {
      "cell_type": "code",
      "source": [
        "# Genearte CVS file for Kaggle competition"
      ],
      "metadata": {
        "id": "hnqjWzlIVKe-"
      },
      "execution_count": null,
      "outputs": []
    },
    {
      "cell_type": "code",
      "source": [
        "# Step 1: Preprocess test data (use same normalization and shape)\n",
        "X_test = X_test[..., np.newaxis]  # Add channel dimension\n",
        "X_test = X_test.astype(\"float32\") / 255.0\n",
        "\n",
        "# Step 2: Predict using main output of Model 3\n",
        "y_pred_proba = model3.predict(X_test)[0].flatten()  # [0] = main_output\n",
        "\n",
        "# Step 3: Create DataFrame for submission\n",
        "submission_df = pd.DataFrame({\n",
        "    \"Id\": np.arange(len(y_pred_proba)),\n",
        "    \"Predicted\": y_pred_proba\n",
        "})\n",
        "\n",
        "# Step 4: Save as CSV\n",
        "submission_df.to_csv(\"module5)submission.csv\", index=False)\n",
        "print(\"submission.csv has been saved.\")\n"
      ],
      "metadata": {
        "colab": {
          "base_uri": "https://localhost:8080/"
        },
        "id": "ZOUy808rVOOz",
        "outputId": "1725efcf-9278-451c-c0ee-5d45fe9ae355"
      },
      "execution_count": 65,
      "outputs": [
        {
          "output_type": "stream",
          "name": "stdout",
          "text": [
            "\u001b[1m236/236\u001b[0m \u001b[32m━━━━━━━━━━━━━━━━━━━━\u001b[0m\u001b[37m\u001b[0m \u001b[1m2s\u001b[0m 7ms/step\n",
            "submission.csv has been saved.\n"
          ]
        }
      ]
    }
  ],
  "metadata": {
    "colab": {
      "provenance": [],
      "authorship_tag": "ABX9TyN2jkLfNjzMYluKdhLJexbB",
      "include_colab_link": true
    },
    "kernelspec": {
      "display_name": "Python 3",
      "name": "python3"
    },
    "language_info": {
      "name": "python"
    }
  },
  "nbformat": 4,
  "nbformat_minor": 0
}